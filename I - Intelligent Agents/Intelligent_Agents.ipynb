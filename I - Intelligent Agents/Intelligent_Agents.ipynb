{
  "nbformat": 4,
  "nbformat_minor": 0,
  "metadata": {
    "colab": {
      "name": "Intelligent_Agents.ipynb",
      "provenance": [],
      "collapsed_sections": []
    },
    "kernelspec": {
      "name": "python3",
      "display_name": "Python 3"
    }
  },
  "cells": [
    {
      "cell_type": "markdown",
      "metadata": {
        "id": "-HZBbk6GcB6q"
      },
      "source": [
        "# Exercício de agentes inteligentes\n",
        "\n",
        "Para este primeiro exercício, vamos criar um agente inteligente baseado no [aimacode](https://github.com/aimacode)."
      ]
    },
    {
      "cell_type": "markdown",
      "metadata": {
        "id": "7Gv7-affdaTP"
      },
      "source": [
        "## Criando agentes\n",
        "\n",
        "Inicialmente deveremos criar nossos agentes. Para isso, vamos criar uma classe genérica de uma coisa e um agente. \n",
        "A coisa, como o nome já diz, pode ser qualquer coisa.\n",
        "O agente inicialmente esta vivo, não colidiu com nada, não segura nada, e tem sua performance zerada.\n",
        "Um agente deve estar inserido em um ambiente para poder interagir, logo criaremos este também."
      ]
    },
    {
      "cell_type": "code",
      "metadata": {
        "id": "YXgHP-_EdmGn"
      },
      "source": [
        "import collections\n",
        "\n",
        "class Thing:\n",
        "    def __repr__(self):\n",
        "        return '<{}>'.format(getattr(self, '__name__', self.__class__.__name__))\n",
        "\n",
        "    def is_alive(self):\n",
        "        \"\"\"Things that are 'alive' should return true.\"\"\"\n",
        "        return hasattr(self, 'alive') and self.alive\n",
        "\n",
        "    def show_state(self):\n",
        "        \"\"\"Display the agent's internal state. Subclasses should override.\"\"\"\n",
        "        print(\"I don't know how to show_state.\")\n",
        "\n",
        "    def display(self, canvas, x, y, width, height):\n",
        "        \"\"\"Display an image of this Thing on the canvas.\"\"\"\n",
        "        # Do we need this?\n",
        "        pass\n",
        "\n",
        "class Agent(Thing):\n",
        "    def __init__(self, program=None):\n",
        "        self.alive = True\n",
        "        self.bump = False\n",
        "        self.holding = []\n",
        "        self.performance = 0\n",
        "        if program is None or not isinstance(program, collections.Callable):\n",
        "            print(\"Can't find a valid program for {}, falling back to default.\".format(\n",
        "                self.__class__.__name__))\n",
        "\n",
        "            def program(percept):\n",
        "                return eval(input('Percept={}; action? '.format(percept)))\n",
        "\n",
        "        self.program = program\n",
        "        \n",
        "class Environment:\n",
        "    def __init__(self):\n",
        "        self.things = []\n",
        "        self.agents = []\n",
        "\n",
        "    def thing_classes(self):\n",
        "        return []  # List of classes that can go into environment\n",
        "\n",
        "    def percept(self, agent):\n",
        "        \"\"\"Return the percept that the agent sees at this point. (Implement this.)\"\"\"\n",
        "        raise NotImplementedError\n",
        "\n",
        "    def execute_action(self, agent, action):\n",
        "        \"\"\"Change the world to reflect this action. (Implement this.)\"\"\"\n",
        "        raise NotImplementedError\n",
        "\n",
        "    def default_location(self, thing):\n",
        "        \"\"\"Default location to place a new thing with unspecified location.\"\"\"\n",
        "        return None\n",
        "\n",
        "    def exogenous_change(self):\n",
        "        \"\"\"If there is spontaneous change in the world, override this.\"\"\"\n",
        "        pass\n",
        "\n",
        "    def is_done(self):\n",
        "        \"\"\"By default, we're done when we can't find a live agent.\"\"\"\n",
        "        return not any(agent.is_alive() for agent in self.agents)\n",
        "\n",
        "    def step(self):\n",
        "        \"\"\"Run the environment for one time step. If the\n",
        "        actions and exogenous changes are independent, this method will\n",
        "        do. If there are interactions between them, you'll need to\n",
        "        override this method.\"\"\"\n",
        "        if not self.is_done():\n",
        "            actions = []\n",
        "            for agent in self.agents:\n",
        "                if agent.alive:\n",
        "                    actions.append(agent.program(self.percept(agent)))\n",
        "                else:\n",
        "                    actions.append(\"\")\n",
        "            for (agent, action) in zip(self.agents, actions):\n",
        "                self.execute_action(agent, action)\n",
        "            self.exogenous_change()\n",
        "\n",
        "    def run(self, steps=1000):\n",
        "        \"\"\"Run the Environment for given number of time steps.\"\"\"\n",
        "        for step in range(steps):\n",
        "            if self.is_done():\n",
        "                return\n",
        "            self.step()\n",
        "\n",
        "    def list_things_at(self, location, tclass=Thing):\n",
        "        \"\"\"Return all things exactly at a given location.\"\"\"\n",
        "        return [thing for thing in self.things\n",
        "                if thing.location == location and isinstance(thing, tclass)]\n",
        "\n",
        "    def some_things_at(self, location, tclass=Thing):\n",
        "        \"\"\"Return true if at least one of the things at location\n",
        "        is an instance of class tclass (or a subclass).\"\"\"\n",
        "        return self.list_things_at(location, tclass) != []\n",
        "\n",
        "    def add_thing(self, thing, location=None):\n",
        "        \"\"\"Add a thing to the environment, setting its location. For\n",
        "        convenience, if thing is an agent program we make a new agent\n",
        "        for it. (Shouldn't need to override this.)\"\"\"\n",
        "        if not isinstance(thing, Thing):\n",
        "            thing = Agent(thing)\n",
        "        if thing in self.things:\n",
        "            print(\"Can't add the same thing twice\")\n",
        "        else:\n",
        "            thing.location = location if location is not None else self.default_location(thing)\n",
        "            self.things.append(thing)\n",
        "            if isinstance(thing, Agent):\n",
        "                thing.performance = 0\n",
        "                self.agents.append(thing)\n",
        "\n",
        "    def delete_thing(self, thing):\n",
        "        \"\"\"Remove a thing from the environment.\"\"\"\n",
        "        try:\n",
        "            self.things.remove(thing)\n",
        "        except ValueError as e:\n",
        "            print(e)\n",
        "            print(\"  in Environment delete_thing\")\n",
        "            print(\"  Thing to be removed: {} at {}\".format(thing, thing.location))\n",
        "            print(\"  from list: {}\".format([(thing, thing.location) for thing in self.things]))\n",
        "        if thing in self.agents:\n",
        "            self.agents.remove(thing)"
      ],
      "execution_count": null,
      "outputs": []
    },
    {
      "cell_type": "markdown",
      "metadata": {
        "id": "whnjbRGbgQw6"
      },
      "source": [
        "Agora criaremos o ambiente em que o nosso agente estará, que será um parque, o qual pode ter comida e água em qualquer parte dele. O parque será simplificado e terá apenas um caminho que o agente poderá seguir."
      ]
    },
    {
      "cell_type": "code",
      "metadata": {
        "id": "7qhtQs7LgyHj"
      },
      "source": [
        "class Food(Thing):\n",
        "    pass\n",
        "\n",
        "class Water(Thing):\n",
        "    pass\n",
        "\n",
        "class Cat(Thing):\n",
        "    pass\n",
        "\n",
        "\n",
        "class Park(Environment):\n",
        "    def percept(self, agent):\n",
        "        '''return a list of things that are in our agent's location'''\n",
        "        things = self.list_things_at(agent.location)\n",
        "        return things\n",
        "    \n",
        "    def execute_action(self, agent, action):\n",
        "        '''changes the state of the environment based on what the agent does.'''\n",
        "        if action == \"walk\":\n",
        "            print('{} decided to {} at location: {}'.format(str(agent)[1:-1], action, agent.location))\n",
        "            agent.walk()\n",
        "        elif action == \"eat\":\n",
        "            items = self.list_things_at(agent.location, tclass=Food)\n",
        "            if len(items) != 0:\n",
        "                if agent.eat(items[0]): #Have the dog eat the first item\n",
        "                    print('{} ate {} at location: {}'\n",
        "                          .format(str(agent)[1:-1], str(items[0])[1:-1], agent.location))\n",
        "                    self.delete_thing(items[0]) #Delete it from the Park after.\n",
        "        elif action == \"drink\":\n",
        "            items = self.list_things_at(agent.location, tclass=Water)\n",
        "            if len(items) != 0:\n",
        "                if agent.drink(items[0]): #Have the dog drink the first item\n",
        "                    print('{} drank {} at location: {}'\n",
        "                          .format(str(agent)[1:-1], str(items[0])[1:-1], agent.location))\n",
        "                    self.delete_thing(items[0]) #Delete it from the Park after.\n",
        "\n",
        "    def is_done(self):\n",
        "         '''By default, when there's no living agent, \n",
        "        to prevent killing the dog, we will stop before itself - when there is no more food or water'''\n",
        "        no_edibles = not any(isinstance(thing, Food) or isinstance(thing, Water) for thing in self.things)\n",
        "        dead_agents = not any(agent.is_alive() for agent in self.agents)\n",
        "        return dead_agents or no_edibles\n",
        "  \n",
        "class NewPark(Park):\n",
        "    def execute_action(self,agent,action):\n",
        "        if action == \"bark\":\n",
        "            items = self.list_things_at(agent.location, tclass=Cat)\n",
        "            if len(items) != 0:\n",
        "                if agent.bark(items[0]): #Bark at the first item\n",
        "                    print('{} barked at {} at location: {}'\n",
        "                          .format(str(agent)[1:-1], str(items[0])[1:-1], agent.location))\n",
        "                    self.delete_thing(items[0]) #Delete it from the Park after. \n",
        "        else:\n",
        "            super().execute_action(agent,action)   \n",
        "    def is_done(self):\n",
        "        '''By default, when there's no living agent, \n",
        "        to prevent killing the dog, we will stop before itself - when there is no more food or water or a cat'''\n",
        "        no_cats = not any(isinstance(thing, Cat) or isinstance(thing, Food) or isinstance(thing, Water) for thing in self.things)\n",
        "        dead_agents = not any(agent.is_alive() for agent in self.agents)\n",
        "        return dead_agents or no_cats"
      ],
      "execution_count": null,
      "outputs": []
    },
    {
      "cell_type": "markdown",
      "metadata": {
        "id": "FIsJGLEzeJ0Y"
      },
      "source": [
        "Agora vamos criar nosso primeiro agente. Ele será um cachorrinho que não enxerga muito bem, mas está com fome e com sede. "
      ]
    },
    {
      "cell_type": "code",
      "metadata": {
        "id": "3OEyX5TlgClv"
      },
      "source": [
        "class BlindDog(Agent):\n",
        "    location = 1\n",
        "    \n",
        "    def walk(self):\n",
        "        self.location += 1\n",
        "        \n",
        "    def eat(self, thing):\n",
        "        '''returns True upon success or False otherwise'''\n",
        "        if isinstance(thing, Food):\n",
        "            return True\n",
        "        return False\n",
        "    \n",
        "    def drink(self, thing):\n",
        "        ''' returns True upon success or False otherwise'''\n",
        "        if isinstance(thing, Water):\n",
        "            return True\n",
        "        return False\n",
        "\n",
        "class BlindBarkingDog(BlindDog):\n",
        "    def bark(self,thing):\n",
        "        if isinstance(thing, Cat):\n",
        "            return True\n",
        "            print(\"DEBUG - Retornando true pro gato presente\")\n",
        "        return False"
      ],
      "execution_count": null,
      "outputs": []
    },
    {
      "cell_type": "markdown",
      "metadata": {
        "id": "w7GOYbwAh4rT"
      },
      "source": [
        "Agora implementaremos o programa que o agente inteligente utilizará. \n",
        "Ele irá controlar como o cachorrinho irá interagir sobre o ambiente, de acordo com a tabela abaixo:\n",
        "\n",
        "| Percepção          | Ação    | \n",
        "|---------------------------|-------------|\n",
        "| Sentir comida    |  Comer |\n",
        "| Sentir água         | Beber   |\n",
        "| Não sentir nada | Andar   |"
      ]
    },
    {
      "cell_type": "code",
      "metadata": {
        "id": "wIh_Nz2JkJT_"
      },
      "source": [
        "def program(percepts):\n",
        "    '''Returns an action based on the dog's percepts'''\n",
        "    for p in percepts:\n",
        "        if isinstance(p, Food):\n",
        "            return 'eat'\n",
        "        elif isinstance(p, Water):\n",
        "            return 'drink'\n",
        "        elif isinstance(p, Cat):\n",
        "            return 'bark'\n",
        "    return 'walk'"
      ],
      "execution_count": null,
      "outputs": []
    },
    {
      "cell_type": "markdown",
      "metadata": {
        "id": "Z8KIO8rDkjQE"
      },
      "source": [
        "Agora vamos rodar nossa simulação, criando o parque, com água e comida, além do nosso cachorrinho."
      ]
    },
    {
      "cell_type": "code",
      "metadata": {
        "id": "EYOt-1rulfcP",
        "colab": {
          "base_uri": "https://localhost:8080/",
          "height": 102
        },
        "outputId": "b28d5593-78f1-4f80-eef1-9bc0fc4db47f"
      },
      "source": [
        "park = Park()\n",
        "dog = BlindDog(program)\n",
        "dogfood = Food()\n",
        "water = Water()\n",
        "cat = Cat()\n",
        "park.add_thing(dog, 1)\n",
        "park.add_thing(dogfood, 5)\n",
        "park.add_thing(water, 7)\n",
        "\n",
        "park.run(5)"
      ],
      "execution_count": null,
      "outputs": [
        {
          "output_type": "stream",
          "text": [
            "BlindDog decided to walk at location: 1\n",
            "BlindDog decided to walk at location: 2\n",
            "BlindDog decided to walk at location: 3\n",
            "BlindDog decided to walk at location: 4\n",
            "BlindDog ate Food at location: 5\n"
          ],
          "name": "stdout"
        }
      ]
    },
    {
      "cell_type": "markdown",
      "metadata": {
        "id": "3qGZpsf8ly9N"
      },
      "source": [
        "Veja que o cachorrinho andou 4 posições e na quinta parou e comeu.\n",
        "Vamos continuar, para ver se ele encontra a água."
      ]
    },
    {
      "cell_type": "code",
      "metadata": {
        "id": "8ioHZjmZpYBj",
        "colab": {
          "base_uri": "https://localhost:8080/",
          "height": 68
        },
        "outputId": "4dc5401c-708f-49cb-fa74-7b1cd560bcd5"
      },
      "source": [
        "park.run(5)"
      ],
      "execution_count": null,
      "outputs": [
        {
          "output_type": "stream",
          "text": [
            "BlindDog decided to walk at location: 5\n",
            "BlindDog decided to walk at location: 6\n",
            "BlindDog drank Water at location: 7\n"
          ],
          "name": "stdout"
        }
      ]
    },
    {
      "cell_type": "markdown",
      "metadata": {
        "id": "E7Ny7KTGpt-5"
      },
      "source": [
        "Ele encontrou! Vamos adicionar mais água no parque."
      ]
    },
    {
      "cell_type": "code",
      "metadata": {
        "id": "7RxuSz1tpz6b",
        "colab": {
          "base_uri": "https://localhost:8080/",
          "height": 170
        },
        "outputId": "420be8c0-9897-48e4-cf77-25c9723c7581"
      },
      "source": [
        "park.add_thing(water, 15)\n",
        "park.run(10)"
      ],
      "execution_count": null,
      "outputs": [
        {
          "output_type": "stream",
          "text": [
            "BlindDog decided to walk at location: 7\n",
            "BlindDog decided to walk at location: 8\n",
            "BlindDog decided to walk at location: 9\n",
            "BlindDog decided to walk at location: 10\n",
            "BlindDog decided to walk at location: 11\n",
            "BlindDog decided to walk at location: 12\n",
            "BlindDog decided to walk at location: 13\n",
            "BlindDog decided to walk at location: 14\n",
            "BlindDog drank Water at location: 15\n"
          ],
          "name": "stdout"
        }
      ]
    },
    {
      "cell_type": "markdown",
      "metadata": {
        "id": "kanbckzpp0dr"
      },
      "source": [
        "Novamente ele conseguiu beber a água."
      ]
    },
    {
      "cell_type": "markdown",
      "metadata": {
        "id": "GBnIIak_rBY7"
      },
      "source": [
        "Agora é sua vez! Mude seu cachorrinho para que [quando](https://) ele encontre um gato no parque, ele lata.\n",
        "\n",
        "Para isso, você deve:\n",
        "\n",
        "*   criar um gato (que pode ser uma coisa).\n",
        "*   criar um nova classe de um cachorro (que pode extender da classe BlindDog) que late quando encontra um gato.\n",
        "*   criar uma nova classe de um parque (que pode extender da classe Park) e modificar os métodos execute_action e is_done para executar as ações.\n",
        "\n",
        "\n",
        "Além disso, rode a simulação novamente, adicionando um gato no parque, para testar se ele late quando encontra o gato.\n",
        "Lembre-se que o cachorrinho deve continuar bebendo, comendo, além de latir ao encontrar um gato."
      ]
    },
    {
      "cell_type": "code",
      "metadata": {
        "id": "Jli-o_b-p6xO"
      },
      "source": [
        "#catPark = ParkCatWalk()\n",
        "#dogMod = BarkingDog(program)\n",
        "#dogFood = Food()\n",
        "#water = Water()\n",
        "#cat = Cat()\n",
        "#catPark.add_thing(dog,1)\n",
        "#catPark.add_thing(dogFood,4)\n",
        "#catPark.add_thing(water,6)\n",
        "#catPark.add_thing(cat,3)\n",
        "#park.run(5)\n",
        "#park.run(5)\n",
        "\n"
      ],
      "execution_count": null,
      "outputs": []
    },
    {
      "cell_type": "markdown",
      "metadata": {
        "id": "Otr0irkrvrYx"
      },
      "source": [
        "Para testar se sua simulação está correta, utilize o código abaixo."
      ]
    },
    {
      "cell_type": "code",
      "metadata": {
        "id": "NrOeDf9rxKjl",
        "colab": {
          "base_uri": "https://localhost:8080/",
          "height": 272
        },
        "outputId": "a616b30e-940b-4460-c407-2e17acf92dad"
      },
      "source": [
        "park = NewPark()\n",
        "dog = BlindBarkingDog(program)\n",
        "dogfood = Food()\n",
        "water = Water()\n",
        "cat = Cat()\n",
        "cat2 = Cat()\n",
        "\n",
        "park.add_thing(dog, 1)\n",
        "park.add_thing(cat, 3)\n",
        "park.add_thing(dogfood, 1)\n",
        "park.add_thing(water, 7)\n",
        "park.add_thing(cat2, 12)\n",
        "#dog.program(park.things)\n",
        "#park.things\n",
        "park.run(5)\n",
        "park.run(5)\n",
        "park.run(5)\n",
        "park.run(10)"
      ],
      "execution_count": null,
      "outputs": [
        {
          "output_type": "stream",
          "text": [
            "BlindBarkingDog ate Food at location: 1\n",
            "BlindBarkingDog decided to walk at location: 1\n",
            "BlindBarkingDog decided to walk at location: 2\n",
            "BlindBarkingDog barked at Cat at location: 3\n",
            "BlindBarkingDog decided to walk at location: 3\n",
            "BlindBarkingDog decided to walk at location: 4\n",
            "BlindBarkingDog decided to walk at location: 5\n",
            "BlindBarkingDog decided to walk at location: 6\n",
            "BlindBarkingDog drank Water at location: 7\n",
            "BlindBarkingDog decided to walk at location: 7\n",
            "BlindBarkingDog decided to walk at location: 8\n",
            "BlindBarkingDog decided to walk at location: 9\n",
            "BlindBarkingDog decided to walk at location: 10\n",
            "BlindBarkingDog decided to walk at location: 11\n",
            "BlindBarkingDog barked at Cat at location: 12\n"
          ],
          "name": "stdout"
        }
      ]
    },
    {
      "cell_type": "markdown",
      "metadata": {
        "id": "gd45d7JXwBra"
      },
      "source": [
        "Por último, indique quais os tipos do ambiente: \n",
        "\n",
        "Completamente ou parcialmente observável? Deterministico, estratégico ou estocástico? Episódico ou sequencial? Estático ou dinâmico? Discreto ou contínuo? Único agente ou multiagente?"
      ]
    },
    {
      "cell_type": "markdown",
      "metadata": {
        "id": "K0Oy9HsSzvsZ"
      },
      "source": [
        "*Informe aqui os tipos de ambiente*\n",
        "\n",
        "> Parcialmente observável, já que há uma limitação quanto à abrangência do sensor (cheiro).\n",
        "\n",
        "> O ambiente é determinístico, tendo em vista que todos os possíveis casos são previstos, sem brechas para eventos aleatórios.\n",
        "\n",
        "> Episódico, já que as ações prévias não influenciam as próximas. Há a percepção e execução de uma única ação\n",
        "\n",
        "> Dinâmico, já que o estado do ambiente muda à medida que o cachorro anda.\n",
        "\n",
        "> Discreto, visto que os estados possíveis são completamente enumeráveis\n",
        "\n",
        "> Único. O cachorro, que percebe o ambiente e age de acordo com determinadas diretrizes. Os restantes são meros componentes do ambiente.\n",
        "\n",
        "\n",
        "\n"
      ]
    }
  ]
}