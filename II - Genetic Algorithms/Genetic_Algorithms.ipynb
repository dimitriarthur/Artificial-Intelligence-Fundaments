{
  "nbformat": 4,
  "nbformat_minor": 0,
  "metadata": {
    "colab": {
      "name": "Genetic_Algorithms.ipynb",
      "provenance": [],
      "collapsed_sections": [
        "hbHShmXNAS49",
        "4VdFQFYl314U",
        "03RPo-pKBadr"
      ]
    },
    "kernelspec": {
      "name": "python3",
      "display_name": "Python 3"
    }
  },
  "cells": [
    {
      "cell_type": "code",
      "metadata": {
        "id": "KP4PvOZC1iDu"
      },
      "source": [
        "import networkx as nx\n",
        "import matplotlib.pyplot as plt\n",
        "from matplotlib import lines\n",
        "\n",
        "from ipywidgets import interact\n",
        "import ipywidgets as widgets\n",
        "\n",
        "from collections import deque\n",
        "import math\n",
        "import heapq\n",
        "\n",
        "import time\n",
        "import random\n",
        "import bisect"
      ],
      "execution_count": null,
      "outputs": []
    },
    {
      "cell_type": "markdown",
      "metadata": {
        "id": "MrE7fjq53hSe"
      },
      "source": [
        "# Exercício sobre Algoritmos genéticos"
      ]
    },
    {
      "cell_type": "markdown",
      "metadata": {
        "id": "sXEaaxxZS5cC"
      },
      "source": [
        "## Construindo um algoritmo genético\n",
        "\n",
        "Queremos analisar o algoritmo genético, mas em um contexto diferente dos vistos anteriormente.\n",
        "\n",
        "Imagine que você conseguiu achar uma brecha em um sistema de login, cujas senhas tem sempre 17 caracteres maiúsculos ou minúsculos, incluindo o espaço. A brecha encontrada diz quantos dos caracteres da senha colocada estão na posição correta, mas não diz quais que estão corretos.\n",
        "\n",
        "Ou seja, se a senha de uma pessoa é abcdefghijklmnopq e você inseriu abc**z**efghi**a**klmnopq, o sistema lhe diz que você acertou 15.\n",
        "\n",
        "Apesar de ser uma falha muito grave, você deve acertar uma senha dentre 53¹⁷=205442259656281392806087233013.\n",
        "\n",
        "Com isso, queremos construir um algoritmo genético que consiga podar este espaço de busca imenso e acertar uma senha, que por acaso é **Genetic Algorithm**."
      ]
    },
    {
      "cell_type": "code",
      "metadata": {
        "id": "8uMyB-wDWmPQ"
      },
      "source": [
        "target = 'Genetic Algorithm'"
      ],
      "execution_count": null,
      "outputs": []
    },
    {
      "cell_type": "markdown",
      "metadata": {
        "id": "0JiCvjxyXTS-"
      },
      "source": [
        "Agora vamos definir os genes do algoritmo genético, que são todos os caracteres aceitos:"
      ]
    },
    {
      "cell_type": "code",
      "metadata": {
        "id": "2QQ6SQj_Xfqy",
        "colab": {
          "base_uri": "https://localhost:8080/",
          "height": 54
        },
        "outputId": "4ccd1343-1373-4f5c-c8eb-8a61c1d77a88"
      },
      "source": [
        "# The ASCII values of uppercase characters ranges from 65 to 91\n",
        "u_case = [chr(x) for x in range(65, 91)]\n",
        "# The ASCII values of lowercase characters ranges from 97 to 123\n",
        "l_case = [chr(x) for x in range(97, 123)]\n",
        "\n",
        "gene_pool = []\n",
        "gene_pool.extend(u_case) # adds the uppercase list to the gene pool\n",
        "gene_pool.extend(l_case) # adds the lowercase list to the gene pool\n",
        "gene_pool.append(' ')    # adds the space character to the gene pool\n",
        "print(gene_pool)"
      ],
      "execution_count": null,
      "outputs": [
        {
          "output_type": "stream",
          "text": [
            "['A', 'B', 'C', 'D', 'E', 'F', 'G', 'H', 'I', 'J', 'K', 'L', 'M', 'N', 'O', 'P', 'Q', 'R', 'S', 'T', 'U', 'V', 'W', 'X', 'Y', 'Z', 'a', 'b', 'c', 'd', 'e', 'f', 'g', 'h', 'i', 'j', 'k', 'l', 'm', 'n', 'o', 'p', 'q', 'r', 's', 't', 'u', 'v', 'w', 'x', 'y', 'z', ' ']\n"
          ],
          "name": "stdout"
        }
      ]
    },
    {
      "cell_type": "markdown",
      "metadata": {
        "id": "BevVYzWEXgpr"
      },
      "source": [
        "Agora vamos inicializar o tamanho da população, a taxa de mutação:"
      ]
    },
    {
      "cell_type": "code",
      "metadata": {
        "id": "2Px6vfkkXtSq"
      },
      "source": [
        "max_population = 100\n",
        "mutation_rate = 0.07"
      ],
      "execution_count": null,
      "outputs": []
    },
    {
      "cell_type": "markdown",
      "metadata": {
        "id": "79Yy4PaUXtim"
      },
      "source": [
        "E criar nossa função de fitness:"
      ]
    },
    {
      "cell_type": "code",
      "metadata": {
        "id": "-jKTCM-IX5jx"
      },
      "source": [
        "def fitness_fn(sample):\n",
        "    # initialize fitness to 0\n",
        "    fitness = 0\n",
        "    for i in range(len(sample)):\n",
        "        # increment fitness by 1 for every matching character\n",
        "        if sample[i] == target[i]:\n",
        "            fitness += 1\n",
        "    return fitness"
      ],
      "execution_count": null,
      "outputs": []
    },
    {
      "cell_type": "markdown",
      "metadata": {
        "id": "XQXNeyU1Pevq"
      },
      "source": [
        "***testing fitnes_fn***"
      ]
    },
    {
      "cell_type": "code",
      "metadata": {
        "id": "XfYsPO60O-Av",
        "colab": {
          "base_uri": "https://localhost:8080/",
          "height": 51
        },
        "outputId": "499b225b-3899-48a9-e148-2f7426833c74"
      },
      "source": [
        "print(fitness_fn('G2345678901234567'))\n",
        "print(fitness_fn('Genetic Algorithm'))\n"
      ],
      "execution_count": null,
      "outputs": [
        {
          "output_type": "stream",
          "text": [
            "1\n",
            "17\n"
          ],
          "name": "stdout"
        }
      ]
    },
    {
      "cell_type": "markdown",
      "metadata": {
        "id": "2AtZAWG_X6DZ"
      },
      "source": [
        "E inicializar nossa população:\n"
      ]
    },
    {
      "cell_type": "code",
      "metadata": {
        "id": "OFruyDrcYbrR"
      },
      "source": [
        "def init_population(pop_number, gene_pool, state_length):\n",
        "    \"\"\"Initializes population for genetic algorithm\n",
        "    pop_number  :  Number of individuals in population\n",
        "    gene_pool   :  List of possible values for individuals\n",
        "    state_length:  The length of each individual\"\"\"\n",
        "    g = len(gene_pool)\n",
        "    population = []\n",
        "    for i in range(pop_number):\n",
        "        new_individual = [gene_pool[random.randrange(0, g)] for j in range(state_length)]\n",
        "        population.append(new_individual)\n",
        "\n",
        "    return population"
      ],
      "execution_count": null,
      "outputs": []
    },
    {
      "cell_type": "code",
      "metadata": {
        "id": "wPQffMIMtR0U"
      },
      "source": [
        "population = init_population(max_population, gene_pool, len(target))"
      ],
      "execution_count": null,
      "outputs": []
    },
    {
      "cell_type": "code",
      "metadata": {
        "id": "jlvCygC2Liqm",
        "colab": {
          "base_uri": "https://localhost:8080/",
          "height": 54
        },
        "outputId": "20073f5d-9588-4a98-989d-e089bcbf32a0"
      },
      "source": [
        "print(population)"
      ],
      "execution_count": null,
      "outputs": [
        {
          "output_type": "stream",
          "text": [
            "[['g', 'e', 'D', 'J', 'X', 'v', 'C', 'r', 'e', 'E', 'S', 'Y', 'm', 'L', 't', 'Z', 'F'], ['M', 'E', 'D', 'N', 'R', 'c', 'A', 'w', 'o', 'T', 'G', 'C', 's', ' ', 'd', 'p', 'i'], ['h', 'c', 'j', 'p', 'E', 'R', 'f', 't', 'U', 't', 'G', 'g', 'L', 'G', 'q', 'K', 'S'], ['P', 'Q', 'M', 'a', 'R', 'I', 'f', 'B', 'Q', 'G', 'V', 'T', 't', 'G', 'Z', 'F', 'L'], ['o', 'l', 'S', 'v', 'A', 'E', 'P', 'C', 'o', 'Y', 'V', 'i', 'M', 'P', ' ', 'n', 'p'], ['i', 'v', 'S', 'q', 'L', 'v', 'k', 'O', 'z', 'q', 't', 'O', 'H', 'y', 'x', 'a', 'b'], ['i', 'A', 'V', 't', 'l', 'N', 'U', 'U', 's', 's', 'C', 'z', 'K', 'p', 't', 'D', 'V'], ['Z', 'd', 'r', 'k', 'q', 'y', 'Q', 'T', 'n', 'r', 'h', 'd', 'p', 'y', 'H', 'i', ' '], ['M', 'W', 'R', 'i', 'H', 'a', 'i', 'V', 'x', 'N', 'k', 'D', 'E', 'i', 'Z', 'T', 'm'], ['h', 'f', 'O', 'C', 'r', 'F', 'C', 'W', 'H', 'S', 'u', 'g', 'b', 'h', 's', 'i', 's'], ['n', 'q', 'O', 'R', 's', 'M', 'n', 'T', 'b', 'O', 'w', 'S', 'y', 'z', 'R', 'H', 'x'], ['N', 'l', 'A', 'X', 'G', 'h', 'w', 'I', 'z', 'j', 'b', 'b', 'i', 'f', 'd', 'd', 'w'], ['D', 'Q', 'f', ' ', 's', 'r', 'p', 'e', 'h', 'J', 'i', 'F', 'O', 'e', 'i', 'F', 'z'], ['j', 'd', 'd', 'o', 'L', 'U', 'b', 'u', 'Q', 'Z', 'D', 'y', 'M', 'u', 'i', 'S', 'm'], ['D', 'z', 'd', 'k', 'O', 'U', 'Y', 'W', 'R', 'C', 'g', 'H', 's', 'I', 'w', 's', 'o'], ['G', 'w', 'H', 'y', 'A', 'F', 'h', 'C', 'o', ' ', 'q', 'I', 'C', 'U', 'l', 'K', 'n'], ['c', 'S', 'w', 'Z', 'P', 'n', 'j', 'J', 'G', 'M', 'A', 'X', 's', 'D', 'c', 'Z', 'U'], ['F', 'W', 'N', 'H', ' ', 'N', 'F', 'e', 'k', 'y', 'h', 'Q', 'o', 'j', 'd', ' ', 'B'], ['K', 'r', 'o', 'H', 'K', 'h', 'H', 'N', 'y', 'r', 'a', 'T', 't', 'z', 'b', 'X', 'G'], ['a', 'F', 'e', 'V', 'e', 'n', 'L', 'A', 'p', 'd', 'd', 'H', 'b', 'g', 'V', 'P', 'T'], ['w', 'F', 'D', 'J', 'U', 'z', 'g', 'o', ' ', 'N', 'Z', 'U', 'q', 'x', ' ', 'B', 'U'], ['i', 'u', 'r', 'N', 'y', 'f', 'm', 'G', 'H', 't', 't', 'w', 'W', 'f', 'g', 'X', 'A'], ['e', 'X', 'D', 'X', 'z', 'b', 'v', 'Y', 'r', 'X', 'W', 'j', 'v', 'r', 'q', 'R', 'B'], ['y', 'x', 'q', 'v', 'K', 'r', 'l', 'F', 'n', 'L', 'y', 'v', 'o', 'l', 'p', 'k', ' '], ['s', 'C', 'c', 'Z', 'Y', 'D', 'X', 'v', 'F', 'v', 'b', 'w', 'O', 'k', 'g', 'm', 's'], ['K', 'E', 't', ' ', 'V', 'A', 'd', 'u', 'F', 'O', 'm', 'N', 'n', 'D', 'I', 'v', 'l'], ['m', 'W', 'O', 'Y', 'X', 'k', 'A', 'u', 'v', 'E', 'w', 'o', 'n', 'V', 'l', 'k', 'e'], ['e', 'R', 'j', 'i', 'V', 'k', 'x', 'B', 'O', 'E', 'M', 'e', 'P', 'u', 'M', 'e', 'n'], ['y', 'v', 'S', 'X', 'l', 'V', 'O', 's', 'Y', 'b', 'n', 'D', 'Q', 'L', 'A', 'W', 'd'], ['z', 'l', 'z', 'H', 'O', 'A', 'G', 'b', 'C', 'd', 'v', ' ', 'r', 'q', 'p', 'I', 'A'], ['w', 'm', 'z', 'E', 'z', 'W', 'p', 'B', 'o', 's', 'E', 'F', 'o', 'H', 'M', 'Q', 'x'], ['M', 'E', 'x', 'W', 'U', 'V', 'n', 'm', 'E', 'z', 'w', 'g', 'u', 'k', 'n', 'k', 'R'], ['G', 'f', 'l', 'H', 'I', 'G', 'H', 'B', 'o', 'M', 'M', 'F', 'H', 'F', 'X', 'u', 'O'], ['b', 'l', 'D', 'w', 'c', 'h', 'D', 'f', 'U', 'T', 'v', 'N', 'm', 'T', 'G', 'N', 'U'], ['s', 'g', 'C', 'N', 'b', 'Y', 'h', 'j', ' ', 'G', 'u', 'c', 'i', 'z', 'z', 'g', 'Y'], ['M', ' ', 'R', 't', 'U', 'E', 'u', 'Q', 'l', 'd', 'o', 'p', 'I', 'T', 'J', 'r', 'd'], ['G', 'Y', 'h', 'G', 'z', 'j', 'W', ' ', 'I', 'n', 'C', 's', 'm', 'Z', 'y', 'f', 'm'], ['I', 'p', 'z', 'S', 'R', 'e', 'D', 'V', 'B', 'P', 's', 'u', 'k', 'U', 'T', 'y', 'z'], ['F', 'd', 'h', 'F', 'H', 'z', 'H', 'm', 'y', 'W', 'm', 'j', 'm', 'E', 'O', 'b', 'V'], [' ', 'k', 'Z', 'Z', 'X', 'Y', 'J', 'O', 'J', 'd', 'f', 'W', 'k', 'i', 'R', 'N', 'k'], [' ', 'C', 'm', 'V', 'L', 'M', 'm', 'R', 'C', 'F', 'm', 'i', 'P', 'M', 'V', 'b', 'Z'], ['a', 'i', 'X', 'f', 'P', 'n', 'R', 'r', 'O', 'e', 'g', 'U', 'a', 'r', 'd', 'X', 'd'], ['i', 'Z', 'G', 'Y', 'k', 'l', 'E', 'y', 'L', 't', 'y', 'e', 'F', 'L', 'x', 'p', 'k'], ['i', 'U', 'V', 'U', ' ', 'C', 'g', 'Y', 'Z', 'v', 'X', 'X', 'K', 'u', 'S', 'P', 'g'], ['z', 'y', 'g', 'o', 'T', 't', 'p', 's', 'S', 'R', 'r', 'M', 'r', 'P', 'v', 'P', 'T'], ['S', 'y', 'N', ' ', 'M', 'J', 'W', 'e', 'G', 'Y', 'y', 'I', 'J', 'x', 'a', 'S', 'h'], ['e', 'B', 'x', 'z', ' ', 'L', 'o', 'C', 'j', 'N', 'A', 'a', 'D', 'O', 'B', 'B', 'm'], ['d', 'A', 'z', 'x', 'm', 'S', 'U', 'T', 'W', 'j', 'f', 's', 'M', 'h', 'i', 'z', 'v'], ['H', 'C', 'F', 'c', 'f', 'A', 'b', 'M', 'o', 'N', 'w', 'q', 'C', 'q', 'u', 'B', 'R'], ['v', 'H', 't', 'f', 'T', 'd', 'u', 'E', 'v', 'v', 'm', 'g', 'W', 'V', 'Q', 'R', 'z'], ['k', 'R', 'E', 't', 'M', 'E', 'p', 'e', 'p', 'P', 'Y', 't', 'A', 'E', 'f', 'M', 'S'], ['x', 'J', 'y', 'K', 'J', 'j', 'O', 'J', 'f', 'g', 'S', 'Z', 'O', 'M', 'f', 'e', 't'], ['Y', 'X', 'l', 'y', ' ', 'E', 'M', 'b', 'k', 'r', 'Q', 'b', 't', 'E', 'J', 'i', 'I'], ['J', 'S', 'k', 'g', 'c', 'a', 'P', 'W', 'N', 'Y', 'c', 'o', 's', 'p', 'b', 'O', 'f'], ['b', 'j', 'u', 'S', 'I', 'h', 'D', 'b', 'd', 'M', 'q', 'B', 'x', 'x', ' ', 'h', 'a'], ['t', 'V', 'C', 'x', 'J', 'O', 'y', 'z', 'A', 'a', 'l', 'r', 'H', 'f', 'J', 's', 's'], ['v', 'W', 'z', 'v', 'h', 'x', 'r', 'S', 'B', 'q', 'R', 'b', 'j', 'q', 'm', 'z', 'M'], ['t', ' ', 'e', 'b', 'd', 'h', 's', 'H', 'd', 'W', 'f', 'T', 'k', 'k', 'w', 'm', 'W'], ['K', 'A', 't', 'b', 'n', 'M', 'W', 'n', 'r', 'N', 'D', ' ', 'p', 'E', 'd', 'q', 'd'], ['q', 't', 'Q', 'R', 'z', 'f', 'h', 'i', 'b', 't', 'j', 'l', 'p', 'A', 'F', 'A', 'p'], ['S', 'B', 'B', ' ', 'B', 'A', 'q', 'J', ' ', 'c', 'a', 'r', 's', 'I', 's', 'y', 'k'], ['v', 'n', 'n', 'Y', 'N', 'Y', 'A', 'q', 's', 'J', 'R', 'f', 'i', 'T', 'L', 'G', 'I'], [' ', 'd', 'K', 'R', 'e', 'z', 'E', 'a', 'u', 'x', 'K', 'e', 't', 'W', 'f', 'F', 'w'], ['P', 'd', 'd', 'E', 'A', 'g', 'y', 'R', 'T', 't', 's', 'X', 'F', 'd', 'D', 'R', 'L'], ['a', 'v', 'h', 'z', 'a', 'Q', 'r', 'V', 'F', 'Z', 'f', 'q', 'u', 'K', 'D', 'e', 'R'], ['k', 'w', 'h', 'e', 'n', 'w', 'g', 'N', 'V', 'W', 'j', 'O', 'E', 't', 'N', 'L', 'j'], ['Z', 't', 'V', 'P', 'A', 'H', 'W', 'L', 'b', ' ', 'b', 'j', 'f', 'c', 'm', 'N', 'K'], ['F', 'y', 'F', 'l', 'N', 'b', 'K', 'c', 'r', 'Y', 'L', 'R', 'T', 'A', 'T', 'X', 'l'], ['x', 'Z', 'k', 'S', 'O', 'F', 'B', 'e', 'h', 'h', 'a', 'o', 'P', 'l', 'l', 'B', 'X'], ['B', 'A', 'E', 'p', 'M', 'f', 'l', 'u', 'p', 'T', 'x', 'j', 'L', 'u', 'j', 'J', 'c'], ['j', 'X', 'P', 'M', 'F', 'u', 'c', 'o', 'B', 'n', 'F', 's', 'U', 'm', 'D', 'A', 'I'], ['v', 'Y', 'X', 'O', 'K', 'o', 'b', 'j', 'D', 'H', 'L', 'D', 'q', 'x', 'N', 'l', 'x'], ['c', 'K', 'K', 'y', 'x', 'n', 'D', 'D', 'u', 'Y', 'p', 'Z', 'V', 'K', 'I', 'M', 'a'], ['F', 'Z', 'w', 'q', 'B', 'f', 'a', 'H', 'Z', 'Z', 'u', 'D', 'i', 'j', 'Q', 'z', 'I'], ['D', 'o', 'P', 'O', 'a', 'm', 'a', 'T', 'g', 'X', 'f', 'V', 'D', 'o', 'g', 'S', 'H'], ['Z', 'U', 'w', 'd', 'Y', 'v', 'h', 'C', 'N', 'd', 'V', 'b', 'J', 'G', 'n', 'r', 'w'], ['i', 'Y', 'L', 'u', 'q', 'g', 'G', 'H', 'Q', 'Z', 'f', 'X', 'S', 'W', 'x', 'H', 'v'], ['g', 'v', 'O', 's', 'x', 'I', 'T', 'W', 'b', 't', 'w', 'H', 'N', 'X', 'g', 'A', 'u'], ['a', 'T', 'y', 'v', 'w', 'X', 'v', 'u', 'A', 'i', 'M', 'k', 'S', 'M', 'a', 'V', 'i'], ['t', 'L', 'N', 'E', 'x', 'T', 'R', 'h', 'q', 'N', 'C', 'M', 'y', 'F', 'Z', 'm', 'k'], ['v', 'p', 'X', 'B', 'i', 'T', 'K', 'W', 'W', 'I', 'S', 'f', 'K', 'V', 'z', 'u', 'm'], ['c', 'h', 'E', 'V', 'g', 's', 'o', 'b', 'j', 'c', 'R', 'l', 'c', 'Z', 'X', 'V', 'd'], ['f', 'F', 'v', 'w', 'b', 'a', 'w', 'f', 'i', 'v', 'J', 't', 'c', 'h', 'H', 'a', 'M'], ['V', 'a', 'a', 'E', 'T', 's', 'l', 'm', 'G', 'Z', 'R', 'C', 'J', 'T', 'V', 'g', 'l'], ['o', 'Z', 'I', ' ', 'h', 'Z', 'c', 'M', 'Q', 'D', 'P', 'N', 'a', 'y', 'S', 'I', 'K'], ['T', 'J', 'L', 'k', 'U', 'l', 'o', 'X', 'n', 'k', 'q', 'f', 'P', 'c', 'Z', ' ', 'u'], ['Q', 'q', 'Z', 'a', 'n', 'Y', 't', 'O', 'f', 'M', 'B', 'k', 'u', 'H', 'N', 'p', 'y'], ['U', 'L', 'B', 'f', 'a', 'v', 'V', 'o', 'W', 'D', 'V', 'T', 's', 'e', 'a', 'i', ' '], ['M', 'T', 'V', 's', 'p', 'H', 't', 'j', 'K', 'o', 'e', 'n', 'o', 'W', 'm', 'c', 'H'], ['Q', 't', 'E', 'y', 'q', 'M', 'n', 'Y', 'a', 'E', 'K', 's', 'f', 'R', 'n', 'Y', 'I'], ['g', 'X', 't', 'f', ' ', 'b', 'G', 'o', 'T', 'u', 'v', 'q', 'B', 'U', 'W', 'p', 'm'], ['Q', 'j', 'z', 'W', 'T', 'C', 'P', 'A', 'v', 'l', 'f', 'S', 'T', 'I', 'F', 'L', 'N'], ['x', 'm', 'j', 'E', 'Y', 'x', 'a', ' ', 'v', 's', 'v', 'B', 'Y', 'H', 'W', 'a', 'Q'], ['d', 'z', 'u', 'd', 'Z', 'f', 'l', 'c', 'f', 'w', 't', 'j', 'v', 'f', 'x', 'B', 'h'], ['a', 'H', 'Q', 'k', 't', 'z', 'g', 'u', 'S', 'd', 'x', 'e', 'n', 'a', 'F', 'i', ' '], ['r', 'z', 's', 'T', 'c', 'V', 't', 'Y', 'v', 'U', 'X', 'A', 'z', 'y', 'b', 'Y', 'G'], ['e', 'l', 'U', 'B', 'V', 'n', 'F', 'E', 'I', 's', 'z', 'C', 'i', 'V', 'j', 'l', 'v'], ['Q', 'x', 'd', 'T', 'T', 'E', 'B', 'V', 'v', ' ', 'v', 'r', 'a', 'H', 'u', 'X', 'C'], ['v', 'K', 'E', 'Q', 'u', 'Y', 'a', 'N', 'l', 'U', 'D', 'V', 'C', 'u', 'v', 'l', 'f'], ['b', 'm', 'w', 'p', 'P', 'V', 'v', 'X', 'g', 'i', 'o', 'O', 'P', 'L', 'a', 'Z', 'T']]\n"
          ],
          "name": "stdout"
        }
      ]
    },
    {
      "cell_type": "markdown",
      "metadata": {
        "id": "1vKziaHNQIj4"
      },
      "source": [
        "***testing gene pool***"
      ]
    },
    {
      "cell_type": "code",
      "metadata": {
        "id": "iCWQgn_mQ4uy"
      },
      "source": [
        ""
      ],
      "execution_count": null,
      "outputs": []
    },
    {
      "cell_type": "code",
      "metadata": {
        "id": "FvbME11OMkcz",
        "colab": {
          "base_uri": "https://localhost:8080/",
          "height": 68
        },
        "outputId": "8c2295af-7f0a-4436-bc11-8652a563b442"
      },
      "source": [
        "g = len(gene_pool)\n",
        "state_length=17\n",
        "lista=[random.randrange(0, g) for j in range(state_length)]\n",
        "print(lista)\n",
        "ind=[gene_pool[j] for j in lista]\n",
        "print(ind)\n",
        "st=''.join(ind)\n",
        "print(st)\n",
        "\n"
      ],
      "execution_count": null,
      "outputs": [
        {
          "output_type": "stream",
          "text": [
            "[13, 40, 36, 20, 20, 29, 10, 50, 46, 21, 18, 36, 5, 14, 24, 30, 10]\n",
            "['N', 'o', 'k', 'U', 'U', 'd', 'K', 'y', 'u', 'V', 'S', 'k', 'F', 'O', 'Y', 'e', 'K']\n",
            "NokUUdKyuVSkFOYeK\n"
          ],
          "name": "stdout"
        }
      ]
    },
    {
      "cell_type": "markdown",
      "metadata": {
        "id": "ADBiylv9Yhdl"
      },
      "source": [
        "Agora vamos selecionar dois dos indivíduos mais propícios para cruzar:"
      ]
    },
    {
      "cell_type": "code",
      "metadata": {
        "id": "YNwsHZ30ZEHR"
      },
      "source": [
        "def weighted_sampler(seq, weights):\n",
        "    \"\"\"Return a random-sample function that picks from seq weighted by weights.\"\"\"\n",
        "    totals = []\n",
        "    for w in weights:\n",
        "        totals.append(w + totals[-1] if totals else w)\n",
        "\n",
        "    return lambda: seq[bisect.bisect(totals, random.uniform(0, totals[-1]))]\n",
        "\n",
        "def select(r, population, fitness_fn):\n",
        "    fitnesses = map(fitness_fn, population)\n",
        "    sampler = weighted_sampler(population, fitnesses)\n",
        "    return [sampler() for i in range(r)]\n",
        "\n"
      ],
      "execution_count": null,
      "outputs": []
    },
    {
      "cell_type": "code",
      "metadata": {
        "id": "i1LWJsU_t9WZ",
        "colab": {
          "base_uri": "https://localhost:8080/",
          "height": 54
        },
        "outputId": "3a7d3a53-69bc-452d-c9cf-b6b08653acd6"
      },
      "source": [
        "parents = select(2, population, fitness_fn) \n",
        "print(parents)"
      ],
      "execution_count": null,
      "outputs": [
        {
          "output_type": "stream",
          "text": [
            "[['g', 'e', 'D', 'J', 'X', 'v', 'C', 'r', 'e', 'E', 'S', 'Y', 'm', 'L', 't', 'Z', 'F'], ['j', 'd', 'd', 'o', 'L', 'U', 'b', 'u', 'Q', 'Z', 'D', 'y', 'M', 'u', 'i', 'S', 'm']]\n"
          ],
          "name": "stdout"
        }
      ]
    },
    {
      "cell_type": "markdown",
      "metadata": {
        "id": "ffwzRAdIRUWf"
      },
      "source": [
        "***testing weighted_sampler and select***\n",
        "Note: bissect.bissect(x,a) returns an insertion point which comes after (to the right of) any existing entries of x in a\n",
        "\n",
        "> Indented block\n",
        "\n"
      ]
    },
    {
      "cell_type": "code",
      "metadata": {
        "id": "d2KNOlYsRgo1",
        "colab": {
          "base_uri": "https://localhost:8080/",
          "height": 343
        },
        "outputId": "cad7ec87-dc81-4f2f-cc5f-c90536085358"
      },
      "source": [
        "weights=[0 for i in range(96)]\n",
        "weights.append(0.25);\n",
        "weights.append(0.25);\n",
        "weights.append(0.25);\n",
        "weights.append(0.25);\n",
        "\n",
        "print(len(weights))\n",
        "print(weights)\n",
        "totals = []\n",
        "for w in weights:\n",
        "        totals.append(w + totals[-1] if totals else w)\n",
        "print(totals)\n",
        "\n",
        "print(''.join(population[96]))\n",
        "print(''.join(population[97]))\n",
        "print(''.join(population[98]))\n",
        "print(''.join(population[99]))      \n",
        "print('-----')\n",
        "r=weighted_sampler(population,weights)\n",
        "for i in range(10):\n",
        "  print(''.join(r()))\n",
        "  \n"
      ],
      "execution_count": null,
      "outputs": [
        {
          "output_type": "stream",
          "text": [
            "100\n",
            "[0, 0, 0, 0, 0, 0, 0, 0, 0, 0, 0, 0, 0, 0, 0, 0, 0, 0, 0, 0, 0, 0, 0, 0, 0, 0, 0, 0, 0, 0, 0, 0, 0, 0, 0, 0, 0, 0, 0, 0, 0, 0, 0, 0, 0, 0, 0, 0, 0, 0, 0, 0, 0, 0, 0, 0, 0, 0, 0, 0, 0, 0, 0, 0, 0, 0, 0, 0, 0, 0, 0, 0, 0, 0, 0, 0, 0, 0, 0, 0, 0, 0, 0, 0, 0, 0, 0, 0, 0, 0, 0, 0, 0, 0, 0, 0, 0.25, 0.25, 0.25, 0.25]\n",
            "[0, 0, 0, 0, 0, 0, 0, 0, 0, 0, 0, 0, 0, 0, 0, 0, 0, 0, 0, 0, 0, 0, 0, 0, 0, 0, 0, 0, 0, 0, 0, 0, 0, 0, 0, 0, 0, 0, 0, 0, 0, 0, 0, 0, 0, 0, 0, 0, 0, 0, 0, 0, 0, 0, 0, 0, 0, 0, 0, 0, 0, 0, 0, 0, 0, 0, 0, 0, 0, 0, 0, 0, 0, 0, 0, 0, 0, 0, 0, 0, 0, 0, 0, 0, 0, 0, 0, 0, 0, 0, 0, 0, 0, 0, 0, 0, 0.25, 0.5, 0.75, 1.0]\n",
            "elUBVnFEIszCiVjlv\n",
            "QxdTTEBVv vraHuXC\n",
            "vKEQuYaNlUDVCuvlf\n",
            "bmwpPVvXgioOPLaZT\n",
            "-----\n",
            "QxdTTEBVv vraHuXC\n",
            "vKEQuYaNlUDVCuvlf\n",
            "QxdTTEBVv vraHuXC\n",
            "vKEQuYaNlUDVCuvlf\n",
            "elUBVnFEIszCiVjlv\n",
            "elUBVnFEIszCiVjlv\n",
            "vKEQuYaNlUDVCuvlf\n",
            "elUBVnFEIszCiVjlv\n",
            "vKEQuYaNlUDVCuvlf\n",
            "bmwpPVvXgioOPLaZT\n"
          ],
          "name": "stdout"
        }
      ]
    },
    {
      "cell_type": "markdown",
      "metadata": {
        "id": "jYak1Y-qZpHb"
      },
      "source": [
        "E vamos recombinar os indivíduos selecionados para gerar seus filhos, os quais poderão sofrer mutação:"
      ]
    },
    {
      "cell_type": "code",
      "metadata": {
        "id": "QFSnIcdQZ1dK"
      },
      "source": [
        "def recombine(x, y):\n",
        "    n = len(x)\n",
        "    c = random.randrange(0, n)\n",
        "    return x[:c] + y[c:]\n",
        "\n",
        "def mutate(x, gene_pool, pmut):\n",
        "    if random.uniform(0, 1) >= pmut:\n",
        "        return x\n",
        "\n",
        "    n = len(x)\n",
        "    g = len(gene_pool)\n",
        "    c = random.randrange(0, n)\n",
        "    r = random.randrange(0, g)\n",
        "\n",
        "    new_gene = gene_pool[r]\n",
        "    return x[:c] + [new_gene] + x[c+1:]\n",
        "\n",
        "child = recombine(*parents)\n",
        "child = mutate(child, gene_pool, mutation_rate)"
      ],
      "execution_count": null,
      "outputs": []
    },
    {
      "cell_type": "markdown",
      "metadata": {
        "id": "diBgXDSIdGSn"
      },
      "source": [
        "***test recombine and mutate***"
      ]
    },
    {
      "cell_type": "code",
      "metadata": {
        "id": "Tyi8bunwdLVw",
        "colab": {
          "base_uri": "https://localhost:8080/",
          "height": 119
        },
        "outputId": "e6908632-a692-497e-f45b-eb07f425302f"
      },
      "source": [
        "i1=r()\n",
        "i2=r()\n",
        "print(''.join(i1))\n",
        "print(''.join(i2))\n",
        "i3=recombine(i1,i2)\n",
        "print(''.join(i3))\n",
        "i4=mutate(i3,gene_pool,0.99)\n",
        "print()\n",
        "print(''.join(i4))\n",
        "def diff(first, second):\n",
        "        second = set(second)\n",
        "        return [item for item in first if item not in second]\n",
        "print(diff(i3,i4))\n"
      ],
      "execution_count": null,
      "outputs": [
        {
          "output_type": "stream",
          "text": [
            "QxdTTEBVv vraHuXC\n",
            "elUBVnFEIszCiVjlv\n",
            "QlUBVnFEIszCiVjlv\n",
            "\n",
            "QlUBVnFEIszCiVRlv\n",
            "['j']\n"
          ],
          "name": "stdout"
        }
      ]
    },
    {
      "cell_type": "markdown",
      "metadata": {
        "id": "w209m80ZabP6"
      },
      "source": [
        "Agora precisamos fazer este processo para toda a população e gerar uma população com fitness decrescente:"
      ]
    },
    {
      "cell_type": "code",
      "metadata": {
        "id": "tSI2CnXEav8i"
      },
      "source": [
        "population = [mutate(recombine(*select(2, population, fitness_fn)), gene_pool, mutation_rate) for i in range(len(population))]"
      ],
      "execution_count": null,
      "outputs": []
    },
    {
      "cell_type": "markdown",
      "metadata": {
        "id": "0LFMG6Nqazzk"
      },
      "source": [
        "Para o algoritmo não ficar rodando eternamente, vamos definir o número de gerações e um limiar do fitness para indicar que o algoritmo chegou a uma solução:"
      ]
    },
    {
      "cell_type": "code",
      "metadata": {
        "id": "5dDaie1jcGJA"
      },
      "source": [
        "ngen = 2000 # maximum number of generations\n",
        "# we set the threshold fitness equal to the length of the target phrase\n",
        "# i.e the algorithm only terminates whne it has got all the characters correct \n",
        "# or it has completed 'ngen' number of generations\n",
        "f_thres = len(target)\n",
        "\n",
        "argmax = max\n",
        "argmin = min\n",
        "\n",
        "def fitness_threshold(fitness_fn, f_thres, population):\n",
        "    if not f_thres:\n",
        "        return None\n",
        "\n",
        "    fittest_individual = argmax(population, key=fitness_fn)\n",
        "    if fitness_fn(fittest_individual) >= f_thres:\n",
        "        return fittest_individual\n",
        "        print(fittest_individual)\n",
        "\n",
        "    return None"
      ],
      "execution_count": null,
      "outputs": []
    },
    {
      "cell_type": "markdown",
      "metadata": {
        "id": "m_H9EemBcGxw"
      },
      "source": [
        "Por último, vamos criar o algoritmo genético integrando todos os passos acima:"
      ]
    },
    {
      "cell_type": "code",
      "metadata": {
        "id": "S_nb9EUMcO4u"
      },
      "source": [
        "def genetic_algorithm_stepwise(population, fitness_fn, gene_pool=[0, 1], f_thres=None, ngen=1200, pmut=0.1):\n",
        "    gen = []\n",
        "    fit = []\n",
        "    for generation in range(ngen):\n",
        "        population = [mutate(recombine(*select(2, population, fitness_fn)), gene_pool, pmut) for i in range(len(population))]\n",
        "        # stores the individual genome with the highest fitness in the current population\n",
        "        current_best = ''.join(max(population, key=fitness_fn))\n",
        "        print(f'Current best: {current_best}\\t\\tGeneration: {str(generation)}\\t\\tFitness: {fitness_fn(current_best)}\\r', end='')\n",
        "        \n",
        "        # compare the fitness of the current best individual to f_thres\n",
        "        fittest_individual = fitness_threshold(fitness_fn, f_thres, population)\n",
        "        #print(fittest_individual)\n",
        "        # if fitness is greater than or equal to f_thres, we terminate the algorithm\n",
        "        gen.append(generation)\n",
        "        fit.append(fitness_fn(current_best))\n",
        "        if fittest_individual:\n",
        "            return dict(zip(gen,fit))\n",
        "\n",
        "    #MODIFIQUEI O RETORNO DA FUNÇÃO\n",
        "    d = dict(zip(gen,fit))\n",
        "    #print('-----------DEBUGGING--------------')\n",
        "    #print(max(population, key=fitness_fn))\n",
        "    #print(generation)\n",
        "    #print('----------------------------------')\n",
        "    return dict(zip(gen,fit))"
      ],
      "execution_count": null,
      "outputs": []
    },
    {
      "cell_type": "code",
      "metadata": {
        "id": "lI8Vj7OFclTA",
        "colab": {
          "base_uri": "https://localhost:8080/",
          "height": 17
        },
        "outputId": "763987c1-0b39-457c-bb3b-1a0d8057b909"
      },
      "source": [
        "population = init_population(max_population, gene_pool, len(target))\n",
        "solution, generations, l = genetic_algorithm_stepwise(population, fitness_fn, gene_pool, f_thres, ngen, mutation_rate)"
      ],
      "execution_count": null,
      "outputs": [
        {
          "output_type": "stream",
          "text": [
            ""
          ],
          "name": "stdout"
        }
      ]
    },
    {
      "cell_type": "markdown",
      "metadata": {
        "id": "TYkN0yVgdZYJ"
      },
      "source": [
        "Vemos que em um certo número gerações o algoritmo genético conseguiu chegar na solução exata."
      ]
    },
    {
      "cell_type": "code",
      "metadata": {
        "id": "M69IaCUlcmDm",
        "colab": {
          "base_uri": "https://localhost:8080/",
          "height": 34
        },
        "outputId": "350ed3cd-7b25-493e-cebd-785f9393231b"
      },
      "source": [
        "print(\"Melhor solução: {}\t\tGeneration: {}\t\tFitness: {}\".format(\"\".join(solution), generations, fitness_fn(solution)))"
      ],
      "execution_count": null,
      "outputs": [
        {
          "output_type": "stream",
          "text": [
            "Melhor solução: Genetic Algorithm\t\tGeneration: 1056\t\tFitness: 17\n"
          ],
          "name": "stdout"
        }
      ]
    },
    {
      "cell_type": "markdown",
      "metadata": {
        "id": "aWUH61XUeWye"
      },
      "source": [
        "## Agora é sua vez\n",
        "\n",
        "Modifique o código do algoritmo genético para guardar em cada geração o fitness da mesma.\n",
        "\n",
        "Após isso, varie a população entre 50 e 100 indivíduos e para cada população, varie a taxa de mutação em 0.07, 0.14, 0.21.\n",
        "\n",
        "Por último, plote 6 gráficos de linhas - uma para cada combinação de tamanho da população e taxa de mutação - mostrando a evolução do fitness ao longo das gerações. E responda: **Aumentar a taxa de mutação faz o algoritmo genético convergir mais rápido? O que dizer de aumentar o tamanho da população?**\n"
      ]
    },
    {
      "cell_type": "code",
      "metadata": {
        "id": "c5QFSae6gMfc",
        "colab": {
          "base_uri": "https://localhost:8080/",
          "height": 119
        },
        "outputId": "26561a83-f8de-465e-8bf4-e1c294b38dd7"
      },
      "source": [
        "import seaborn as sns\n",
        "pop_sizes = [50, 100]\n",
        "mutation_txs = [0.07, 0.14, 0.21]\n",
        "data = [None]*6\n",
        "cont = 0\n",
        "for p in pop_sizes:\n",
        "  for m in mutation_txs:\n",
        "    print(p,m)\n",
        "    # executar o AG com o par (p,m)\n",
        "    population = init_population(p, gene_pool, len(target))\n",
        "    d = genetic_algorithm_stepwise(population, fitness_fn, gene_pool, f_thres, ngen, m)\n",
        "    data[cont] = d \n",
        "    cont += 1\n",
        "\n",
        "    \n"
      ],
      "execution_count": null,
      "outputs": [
        {
          "output_type": "stream",
          "text": [
            "50 0.07\n",
            "50 0.14\n",
            "50 0.21\n",
            "100 0.07\n",
            "100 0.14\n",
            "100 0.21\n"
          ],
          "name": "stdout"
        }
      ]
    },
    {
      "cell_type": "code",
      "metadata": {
        "id": "-UUskPEAQ73N"
      },
      "source": [
        ""
      ],
      "execution_count": null,
      "outputs": []
    },
    {
      "cell_type": "markdown",
      "metadata": {
        "id": "CAVgaJp1Od9K"
      },
      "source": [
        "Para Population = 50:"
      ]
    },
    {
      "cell_type": "code",
      "metadata": {
        "id": "S9iN6df-L9HZ",
        "colab": {
          "base_uri": "https://localhost:8080/",
          "height": 520
        },
        "outputId": "54833504-540f-48fd-8192-b76c3d4fe603"
      },
      "source": [
        "plt.figure(figsize=(16,8))\n",
        "sns.set_style(\"white\")\n",
        "plt.xlabel(\"Generation\",fontsize=16)\n",
        "plt.ylabel(\"Fitness'\",fontsize=16)\n",
        "plt.title(\"Generation vs Fitness\",fontsize=16)\n",
        "plt.plot(list(data[0].keys()),list(data[0].values()), label = \"pop = 50 & m = 0.07\")\n",
        "plt.plot(list(data[1].keys()),list(data[1].values()), label = \"pop = 50 & m = 0.14\")\n",
        "plt.plot(list(data[2].keys()),list(data[2].values()), label = \"pop = 50 & m = 0.21\")\n",
        "plt.legend()\n",
        "plt.legend()\n",
        "plt.show()"
      ],
      "execution_count": null,
      "outputs": [
        {
          "output_type": "display_data",
          "data": {
            "image/png": "[encoded data removed]",
            "text/plain": [
              "<Figure size 1152x576 with 1 Axes>"
            ]
          },
          "metadata": {
            "tags": []
          }
        }
      ]
    },
    {
      "cell_type": "markdown",
      "metadata": {
        "id": "rMqoB5sGmdWH"
      },
      "source": [
        "Para Population = 100"
      ]
    },
    {
      "cell_type": "code",
      "metadata": {
        "id": "YooBzaq-Uzwz",
        "colab": {
          "base_uri": "https://localhost:8080/",
          "height": 520
        },
        "outputId": "07d811d0-b37e-46f6-8be9-fdbfbabe01e3"
      },
      "source": [
        "plt.figure(figsize=(16,8))\n",
        "sns.set_style(\"white\")\n",
        "plt.xlabel(\"Generation\",fontsize=16)\n",
        "plt.ylabel(\"Fitness'\",fontsize=16)\n",
        "plt.title(\"Generation vs Fitness \",fontsize=16)\n",
        "plt.plot(list(data[3].keys()),list(data[3].values()), label = \"pop = 100 & m = 0.07\")\n",
        "plt.plot(list(data[4].keys()),list(data[4].values()), label = \"pop = 100 & m = 0.14\")\n",
        "plt.plot(list(data[5].keys()),list(data[5].values()), label = \"pop = 100 & m = 0.21\")\n",
        "plt.legend()\n",
        "plt.show()\n",
        "#print(data[3])"
      ],
      "execution_count": null,
      "outputs": [
        {
          "output_type": "display_data",
          "data": {
            "image/png": "[encoded data removed]",
            "text/plain": [
              "<Figure size 1152x576 with 1 Axes>"
            ]
          },
          "metadata": {
            "tags": []
          }
        }
      ]
    },
    {
      "cell_type": "markdown",
      "metadata": {
        "id": "0fJxPsWgmtKq"
      },
      "source": [
        "# *Aumentar a taxa de mutação faz o algoritmo genético convergir mais rápido?*\n",
        "\n",
        "Observa-se que a quantidade de gerações necessárias para que o fitness entre em um estado de regime quasi-permanente diminui à medida em que se aumenta a taxa de mutação. No entanto, no caso da população = 100, apesar da curva em verde ter uma ascensão no fitness mais rápida, a curva em laranja atinge o aptidão máxima algumas gerações antes.\n",
        "\n",
        "\n",
        "# *O que dizer de aumentar o tamanho da população?*\n",
        "\n",
        "O tamanho da população inegavelmente influencia positivamente na rapidez com a qual se atinge o fitness máximo. Isso fica claro com as curvas em laranja e verde para população = 100, as quais atingem o nível máximo de aptidão em menos gerações. Portanto, a combinação de aumento da população e taxa de mutação influencia positivamente na convergencia do algoritmo."
      ]
    },
    {
      "cell_type": "markdown",
      "metadata": {
        "id": "7L_8B8LMOd_Q"
      },
      "source": [
        "## Atividade Bonus\n",
        "Implemente uma solução para o problema das 8 rainhas utilizando um algoritmo genético."
      ]
    },
    {
      "cell_type": "code",
      "metadata": {
        "id": "BAqBqdw5OnD4"
      },
      "source": [
        "## Inclua o seu código aqui"
      ],
      "execution_count": null,
      "outputs": []
    }
  ]
}