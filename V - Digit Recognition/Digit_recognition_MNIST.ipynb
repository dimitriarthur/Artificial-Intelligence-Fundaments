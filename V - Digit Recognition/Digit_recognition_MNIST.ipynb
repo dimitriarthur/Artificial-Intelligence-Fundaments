{
  "nbformat": 4,
  "nbformat_minor": 0,
  "metadata": {
    "colab": {
      "name": "Digit_recognition_MNIST.ipynb",
      "provenance": [],
      "collapsed_sections": []
    },
    "kernelspec": {
      "name": "python3",
      "display_name": "Python 3"
    }
  },
  "cells": [
    {
      "cell_type": "markdown",
      "metadata": {
        "id": "POTJUIOXK4_B"
      },
      "source": [
        "# Rede convolucional para classificação de dígitos manuscritos"
      ]
    },
    {
      "cell_type": "markdown",
      "metadata": {
        "id": "LfpaH7LjHVGE"
      },
      "source": [
        "Importando funções necessárias das bibliotecas"
      ]
    },
    {
      "cell_type": "code",
      "metadata": {
        "id": "0zyAZfd5r-ZQ"
      },
      "source": [
        "import keras\n",
        "from keras.datasets import mnist\n",
        "from keras.models import Sequential\n",
        "from keras.layers import Dense, Flatten\n",
        "from keras.layers import Conv2D, MaxPooling2D\n",
        "from sklearn.metrics import confusion_matrix, classification_report"
      ],
      "execution_count": null,
      "outputs": []
    },
    {
      "cell_type": "markdown",
      "metadata": {
        "id": "6oe4KL2iHk9i"
      },
      "source": [
        "Lendo e normalizando os dados de treinamento e de teste"
      ]
    },
    {
      "cell_type": "code",
      "metadata": {
        "id": "FHC4-MnNHfuB"
      },
      "source": [
        "batch_size = 128\n",
        "num_classes = 10\n",
        "epochs = 5"
      ],
      "execution_count": null,
      "outputs": []
    },
    {
      "cell_type": "code",
      "metadata": {
        "id": "YRh4EKUgHpDa",
        "colab": {
          "base_uri": "https://localhost:8080/",
          "height": 115
        },
        "outputId": "438ef0d8-8ced-4d13-80e5-87cf7d756e36"
      },
      "source": [
        "# dimensões da imagem de entrada\n",
        "img_rows, img_cols = 28, 28\n",
        "\n",
        "# carregamento dos dados de treinamento e de teste\n",
        "(x_train, y_train), (x_test, y_test) = mnist.load_data()\n",
        "\n",
        "# use apenas uma fração dos dados de treinamento/teste\n",
        "x_train=x_train[1:7501]\n",
        "y_train=y_train[1:7501]\n",
        "x_test=x_test[1:1251]\n",
        "y_test=y_test[1:1251]\n",
        "\n",
        "x_train = x_train.reshape(x_train.shape[0], img_rows, img_cols, 1)\n",
        "x_test = x_test.reshape(x_test.shape[0], img_rows, img_cols, 1)\n",
        "input_shape = (img_rows, img_cols, 1)\n",
        "\n",
        "x_train = x_train.astype('float32')\n",
        "x_test = x_test.astype('float32')\n",
        "x_train /= 255\n",
        "x_test /= 255\n",
        "print('x_train shape:', x_train.shape)\n",
        "print('x_test shape:', x_train.shape)\n",
        "print(x_train.shape[0], 'exemplos de treino')\n",
        "print(x_test.shape[0], 'exemplos de teste')\n",
        "\n",
        "# converte as saídas para matrizes binárias (one hot encoding)\n",
        "y_train = keras.utils.to_categorical(y_train, num_classes)\n",
        "y_test = keras.utils.to_categorical(y_test, num_classes)\n",
        "\n",
        "print(y_train[0])\n",
        "print(y_train[1])"
      ],
      "execution_count": null,
      "outputs": [
        {
          "output_type": "stream",
          "text": [
            "x_train shape: (7500, 28, 28, 1)\n",
            "x_test shape: (7500, 28, 28, 1)\n",
            "7500 exemplos de treino\n",
            "1250 exemplos de teste\n",
            "[1. 0. 0. 0. 0. 0. 0. 0. 0. 0.]\n",
            "[0. 0. 0. 0. 1. 0. 0. 0. 0. 0.]\n"
          ],
          "name": "stdout"
        }
      ]
    },
    {
      "cell_type": "markdown",
      "metadata": {
        "id": "cFo_S3VpH8Hb"
      },
      "source": [
        "Parâmetros de *treinamento*"
      ]
    },
    {
      "cell_type": "markdown",
      "metadata": {
        "id": "uq2vyh3qH4Jh"
      },
      "source": [
        "Definindo e compilando a rede neural convolucional"
      ]
    },
    {
      "cell_type": "code",
      "metadata": {
        "id": "voS35i-SH7Q4"
      },
      "source": [
        "model = Sequential()\n",
        "model.add(Conv2D(16, kernel_size=(5, 5),\n",
        "                 activation='relu',\n",
        "                 input_shape=input_shape))\n",
        "model.add(Conv2D(32,kernel_size=(5, 5), activation='relu'))\n",
        "model.add(MaxPooling2D(pool_size=(2, 2)))\n",
        "model.add(Flatten())\n",
        "model.add(Dense(64, activation='relu'))\n",
        "model.add(Dense(num_classes, activation='softmax'))\n",
        "\n",
        "model.compile(loss=keras.losses.categorical_crossentropy,\n",
        "              optimizer=keras.optimizers.Adadelta(),\n",
        "              metrics=['accuracy'])"
      ],
      "execution_count": null,
      "outputs": []
    },
    {
      "cell_type": "markdown",
      "metadata": {
        "id": "3moBRy6rH_Us"
      },
      "source": [
        "Treinamento da rede convolucional"
      ]
    },
    {
      "cell_type": "code",
      "metadata": {
        "id": "CHAQEo4Mrmoe",
        "colab": {
          "base_uri": "https://localhost:8080/",
          "height": 228
        },
        "outputId": "80b5e062-1e74-4c28-ada1-f35c004cbff7"
      },
      "source": [
        "model.fit(x_train, y_train,\n",
        "          batch_size=batch_size,\n",
        "          epochs=epochs,\n",
        "          verbose=1,\n",
        "          validation_data=(x_test, y_test))\n",
        "score = model.evaluate(x_test, y_test, verbose=0)\n",
        "print('Perda do teste:', score[0])\n",
        "print('Acurácia do teste:', score[1])"
      ],
      "execution_count": null,
      "outputs": [
        {
          "output_type": "stream",
          "text": [
            "Train on 7500 samples, validate on 1250 samples\n",
            "Epoch 1/5\n",
            "7500/7500 [==============================] - 11s 1ms/step - loss: 0.7667 - accuracy: 0.7552 - val_loss: 0.3595 - val_accuracy: 0.8920\n",
            "Epoch 2/5\n",
            "7500/7500 [==============================] - 11s 1ms/step - loss: 0.1889 - accuracy: 0.9460 - val_loss: 0.1910 - val_accuracy: 0.9344\n",
            "Epoch 3/5\n",
            "7500/7500 [==============================] - 11s 1ms/step - loss: 0.1174 - accuracy: 0.9665 - val_loss: 0.1290 - val_accuracy: 0.9568\n",
            "Epoch 4/5\n",
            "7500/7500 [==============================] - 11s 1ms/step - loss: 0.0878 - accuracy: 0.9743 - val_loss: 0.1347 - val_accuracy: 0.9528\n",
            "Epoch 5/5\n",
            "7500/7500 [==============================] - 11s 1ms/step - loss: 0.0657 - accuracy: 0.9809 - val_loss: 0.1038 - val_accuracy: 0.9616\n",
            "Perda do teste: 0.10383547875061631\n",
            "Acurácia do teste: 0.9616000056266785\n"
          ],
          "name": "stdout"
        }
      ]
    },
    {
      "cell_type": "markdown",
      "metadata": {
        "id": "u3xOtMgaIEQc"
      },
      "source": [
        "Avaliação de performance utilizando matriz de confusão e outras estatísticas de acerto (precisão, revocação, f1 etc)"
      ]
    },
    {
      "cell_type": "code",
      "metadata": {
        "id": "n8TYyp-L1SW0",
        "colab": {
          "base_uri": "https://localhost:8080/",
          "height": 505
        },
        "outputId": "960a406f-5408-4a3c-e36d-bc86fb236e4a"
      },
      "source": [
        "#obtem as saídas reais do modelo treinado, recebendo o cj. de teste como entrada\n",
        "y_pred = model.predict(x_test)\n",
        "\n",
        "#converte para números inteiros as saídas desejadas e saídas da predição\n",
        "y_pred_int = y_pred.argmax(axis=1)\n",
        "y_test_int = y_test.argmax(axis=1)\n",
        "print(y_pred_int[0])\n",
        "print(y_test_int[0])\n",
        "\n",
        "#apresenta a matriz de confusão\n",
        "print(confusion_matrix(y_test_int, y_pred_int))\n",
        "print()\n",
        "\n",
        "#apresenta o relatório de classificação\n",
        "print(classification_report(y_test_int, y_pred_int))"
      ],
      "execution_count": null,
      "outputs": [
        {
          "output_type": "stream",
          "text": [
            "2\n",
            "2\n",
            "[[104   0   0   0   0   1   1   0   0   0]\n",
            " [  0 155   0   0   0   0   0   0   0   0]\n",
            " [  0   1 135   0   0   0   1   2   1   0]\n",
            " [  0   0   0 123   0   5   0   2   1   0]\n",
            " [  0   0   0   0 136   0   2   0   0   1]\n",
            " [  0   0   0   0   0 110   0   0   1   0]\n",
            " [  2   1   0   0   0   2 102   0   1   0]\n",
            " [  0   1   2   0   0   0   0 125   0   0]\n",
            " [  0   1   1   2   1   0   0   2 108   0]\n",
            " [  0   1   0   0   1   3   0   4   4 104]]\n",
            "\n",
            "              precision    recall  f1-score   support\n",
            "\n",
            "           0       0.98      0.98      0.98       106\n",
            "           1       0.97      1.00      0.98       155\n",
            "           2       0.98      0.96      0.97       140\n",
            "           3       0.98      0.94      0.96       131\n",
            "           4       0.99      0.98      0.98       139\n",
            "           5       0.91      0.99      0.95       111\n",
            "           6       0.96      0.94      0.95       108\n",
            "           7       0.93      0.98      0.95       128\n",
            "           8       0.93      0.94      0.94       115\n",
            "           9       0.99      0.89      0.94       117\n",
            "\n",
            "    accuracy                           0.96      1250\n",
            "   macro avg       0.96      0.96      0.96      1250\n",
            "weighted avg       0.96      0.96      0.96      1250\n",
            "\n"
          ],
          "name": "stdout"
        }
      ]
    },
    {
      "cell_type": "markdown",
      "metadata": {
        "id": "1gyZ7CbQt0wa"
      },
      "source": [
        "##Agora é a sua vez\n",
        "**Aproveitando o código anterior, escreva um programa que imprima as matrizes de confusão de 3 versões modificadas (gradualmente mais simples) da rede neural original. Cada versão deverá ter 1/2, 1/4 e 1/8 de filtros convolucionais e de neurônios na camada densa. Como ficaram os resultados? Melhoraram? Pioraram? Procure fornecer uma explicação.**"
      ]
    },
    {
      "cell_type": "code",
      "metadata": {
        "id": "FL5BF6lD4zfD"
      },
      "source": [
        "import numpy as np\n",
        "loss_list = [[],[],[],[]]\n",
        "acc_list = [[],[],[],[]]\n",
        "mult_base = [1,0.5,0.25,0.125]\n"
      ],
      "execution_count": null,
      "outputs": []
    },
    {
      "cell_type": "code",
      "metadata": {
        "id": "h-1zW61X4DaS",
        "colab": {
          "base_uri": "https://localhost:8080/",
          "height": 1000
        },
        "outputId": "e5a6ae4a-1000-41bf-f73e-8c8415f5975b"
      },
      "source": [
        "for CNN_version in np.arange(0,4,1):\n",
        "  print(\"TREINAMENTO COM \", mult_base[CNN_version]*100,\"% DOS FILTROS \\n\")\n",
        "  model = Sequential()\n",
        "  model.add(Conv2D(int(16*mult_base[CNN_version]), kernel_size=(5, 5),\n",
        "                  activation='relu',\n",
        "                  input_shape=input_shape))\n",
        "  model.add(Conv2D(int(32*mult_base[CNN_version]),kernel_size=(5, 5), activation='relu'))\n",
        "  model.add(MaxPooling2D(pool_size=(2, 2)))\n",
        "  model.add(Flatten())\n",
        "  model.add(Dense(int(64*mult_base[CNN_version]), activation='relu'))\n",
        "  model.add(Dense(num_classes, activation='softmax'))\n",
        "  \n",
        "  model.compile(loss=keras.losses.categorical_crossentropy,\n",
        "                optimizer=keras.optimizers.Adadelta(),\n",
        "                metrics=['accuracy'])\n",
        "  history = model.fit(x_train, y_train,\n",
        "          batch_size=batch_size,\n",
        "          epochs=epochs,\n",
        "          verbose=1,\n",
        "          validation_data=(x_test, y_test))\n",
        "  score = model.evaluate(x_test, y_test, verbose=0)\n",
        "  y_pred = model.predict(x_test)\n",
        "\n",
        "  loss_list[CNN_version].append(history.history['loss'])\n",
        "  acc_list[CNN_version].append(history.history['accuracy'])\n",
        "\n",
        "  #converte para números inteiros as saídas desejadas e saídas da predição\n",
        "  y_pred_int = y_pred.argmax(axis=1)\n",
        "  y_test_int = y_test.argmax(axis=1)\n",
        "\n",
        "\n",
        "  print(confusion_matrix(y_test_int, y_pred_int))"
      ],
      "execution_count": null,
      "outputs": [
        {
          "output_type": "stream",
          "text": [
            "TREINAMENTO COM  100 % DOS FILTROS \n",
            "\n",
            "Train on 7500 samples, validate on 1250 samples\n",
            "Epoch 1/5\n",
            "7500/7500 [==============================] - 11s 1ms/step - loss: 0.8018 - accuracy: 0.7397 - val_loss: 0.3037 - val_accuracy: 0.9096\n",
            "Epoch 2/5\n",
            "7500/7500 [==============================] - 11s 1ms/step - loss: 0.1721 - accuracy: 0.9505 - val_loss: 0.1885 - val_accuracy: 0.9408\n",
            "Epoch 3/5\n",
            "7500/7500 [==============================] - 11s 1ms/step - loss: 0.1059 - accuracy: 0.9713 - val_loss: 0.1734 - val_accuracy: 0.9456\n",
            "Epoch 4/5\n",
            "7500/7500 [==============================] - 11s 1ms/step - loss: 0.0794 - accuracy: 0.9772 - val_loss: 0.1081 - val_accuracy: 0.9648\n",
            "Epoch 5/5\n",
            "7500/7500 [==============================] - 11s 1ms/step - loss: 0.0543 - accuracy: 0.9837 - val_loss: 0.1011 - val_accuracy: 0.9704\n",
            "[[103   0   1   0   0   0   2   0   0   0]\n",
            " [  0 152   0   1   0   0   1   0   1   0]\n",
            " [  0   0 134   0   0   0   0   2   4   0]\n",
            " [  0   0   0 129   0   1   0   0   1   0]\n",
            " [  0   0   0   0 134   0   2   1   1   1]\n",
            " [  0   0   0   0   0 109   0   0   2   0]\n",
            " [  0   0   0   0   0   1 106   0   1   0]\n",
            " [  0   0   3   1   0   0   0 123   1   0]\n",
            " [  0   0   0   1   0   0   0   1 112   1]\n",
            " [  0   1   1   1   1   0   0   2   0 111]]\n",
            "TREINAMENTO COM  50.0 % DOS FILTROS \n",
            "\n",
            "Train on 7500 samples, validate on 1250 samples\n",
            "Epoch 1/5\n",
            "7500/7500 [==============================] - 6s 758us/step - loss: 0.9005 - accuracy: 0.7299 - val_loss: 0.3561 - val_accuracy: 0.8840\n",
            "Epoch 2/5\n",
            "7500/7500 [==============================] - 6s 742us/step - loss: 0.2156 - accuracy: 0.9392 - val_loss: 0.2439 - val_accuracy: 0.9296\n",
            "Epoch 3/5\n",
            "7500/7500 [==============================] - 6s 737us/step - loss: 0.1516 - accuracy: 0.9551 - val_loss: 0.1712 - val_accuracy: 0.9504\n",
            "Epoch 4/5\n",
            "7500/7500 [==============================] - 6s 740us/step - loss: 0.1116 - accuracy: 0.9685 - val_loss: 0.1966 - val_accuracy: 0.9352\n",
            "Epoch 5/5\n",
            "7500/7500 [==============================] - 6s 741us/step - loss: 0.0858 - accuracy: 0.9764 - val_loss: 0.1247 - val_accuracy: 0.9576\n",
            "[[105   0   0   0   0   0   1   0   0   0]\n",
            " [  0 154   0   0   0   0   0   0   1   0]\n",
            " [  0   1 134   1   0   0   2   1   1   0]\n",
            " [  0   0   0 126   0   3   0   0   2   0]\n",
            " [  0   0   0   0 130   0   4   0   1   4]\n",
            " [  0   0   0   1   0 109   0   0   1   0]\n",
            " [  3   1   0   0   0   1 102   0   1   0]\n",
            " [  0   0   4   2   1   0   0 119   0   2]\n",
            " [  0   0   1   3   0   0   0   1 109   1]\n",
            " [  0   1   0   0   1   2   0   1   3 109]]\n",
            "TREINAMENTO COM  25.0 % DOS FILTROS \n",
            "\n",
            "Train on 7500 samples, validate on 1250 samples\n",
            "Epoch 1/5\n",
            "7500/7500 [==============================] - 5s 615us/step - loss: 1.1460 - accuracy: 0.6368 - val_loss: 0.5206 - val_accuracy: 0.8424\n",
            "Epoch 2/5\n",
            "7500/7500 [==============================] - 4s 596us/step - loss: 0.3436 - accuracy: 0.9031 - val_loss: 0.3850 - val_accuracy: 0.8840\n",
            "Epoch 3/5\n",
            "7500/7500 [==============================] - 4s 596us/step - loss: 0.2297 - accuracy: 0.9313 - val_loss: 0.2901 - val_accuracy: 0.9168\n",
            "Epoch 4/5\n",
            "7500/7500 [==============================] - 4s 591us/step - loss: 0.1808 - accuracy: 0.9471 - val_loss: 0.2119 - val_accuracy: 0.9360\n",
            "Epoch 5/5\n",
            "7500/7500 [==============================] - 5s 605us/step - loss: 0.1388 - accuracy: 0.9593 - val_loss: 0.1823 - val_accuracy: 0.9496\n",
            "[[104   0   0   0   0   1   0   1   0   0]\n",
            " [  0 154   0   0   0   0   0   0   1   0]\n",
            " [  0   1 129   2   0   0   0   2   5   1]\n",
            " [  0   0   0 127   0   0   0   2   2   0]\n",
            " [  0   1   0   0 134   0   1   1   0   2]\n",
            " [  0   0   0   2   1 106   0   0   2   0]\n",
            " [  3   1   0   0   3   7  93   0   1   0]\n",
            " [  0   0   2   2   1   0   0 122   0   1]\n",
            " [  0   0   0   2   2   1   0   1 107   2]\n",
            " [  0   1   0   2   3   0   0   0   0 111]]\n",
            "TREINAMENTO COM  12.5 % DOS FILTROS \n",
            "\n",
            "Train on 7500 samples, validate on 1250 samples\n",
            "Epoch 1/5\n",
            "7500/7500 [==============================] - 4s 491us/step - loss: 1.6668 - accuracy: 0.4177 - val_loss: 1.1944 - val_accuracy: 0.5712\n",
            "Epoch 2/5\n",
            "7500/7500 [==============================] - 4s 475us/step - loss: 0.6839 - accuracy: 0.7787 - val_loss: 0.6053 - val_accuracy: 0.8048\n",
            "Epoch 3/5\n",
            "7500/7500 [==============================] - 4s 476us/step - loss: 0.4293 - accuracy: 0.8711 - val_loss: 0.5456 - val_accuracy: 0.8280\n",
            "Epoch 4/5\n",
            "7500/7500 [==============================] - 4s 472us/step - loss: 0.3426 - accuracy: 0.9007 - val_loss: 0.3888 - val_accuracy: 0.8792\n",
            "Epoch 5/5\n",
            "7500/7500 [==============================] - 4s 472us/step - loss: 0.2806 - accuracy: 0.9213 - val_loss: 0.3340 - val_accuracy: 0.8968\n",
            "[[100   0   0   1   0   0   0   1   1   3]\n",
            " [  0 153   0   0   0   0   1   0   1   0]\n",
            " [  1   0 128   3   0   0   1   2   2   3]\n",
            " [  0   0   3 123   0   2   0   2   0   1]\n",
            " [  0   1   0   0 127   0   1   0   0  10]\n",
            " [  0   0   0   2   1  97   6   1   2   2]\n",
            " [  3   0   0   0   6   3  96   0   0   0]\n",
            " [  0   2   7   3   1   0   0 102   0  13]\n",
            " [  0   0   2   2   3   4   5   1  87  11]\n",
            " [  0   1   0   2   3   2   0   0   1 108]]\n"
          ],
          "name": "stdout"
        }
      ]
    },
    {
      "cell_type": "markdown",
      "metadata": {
        "id": "263aBINN8IWI"
      },
      "source": [
        "# Como se sabe, a cada camada, o número de filtros está diretamente relacionado com o número de mapas de características extraídos. Estes, por sua vez, dizem respeito ao número de características possivelmente aprendidos pela rede. Ou seja, ao diminuir o número de filtros perde-se muito da capacidade de aprendizado da rede. No entanto, pelo fato da rede ser uma espécie de caixa-preta, não é possível correlacionar diretamente essas mudanças com as métricas de performance, apenas analisar os resultados. \n",
        "\n",
        "# O que pode-se observar a partir da célula de código acima é que a matriz de confusão, à medida em que se diminui o número de filtros o número de verdadeiros positivos diminui e o número de falsos positivos aumenta, para grande maioria dos dígitos. Ou seja, o modelo tem sua capacidade de diferenciação afetada."
      ]
    },
    {
      "cell_type": "code",
      "metadata": {
        "id": "22P3TbPtAV8f",
        "colab": {
          "base_uri": "https://localhost:8080/",
          "height": 545
        },
        "outputId": "cf8eb928-a917-45db-f25b-8487b5fea176"
      },
      "source": [
        "import matplotlib.pyplot as plt\n",
        "epochs = range(1,6)\n",
        "plt.title('Epocas VS Loss')\n",
        "plt.plot(epochs, loss_list[0][0], 'r',label='100% dos Filtros')\n",
        "plt.plot(epochs, loss_list[1][0], 'b',label='50% dos Filtros')\n",
        "plt.plot(epochs, loss_list[2][0], 'g',label='25% dos Filtros')\n",
        "plt.plot(epochs, loss_list[3][0], 'black',label='12,5% dos Filtros')\n",
        "plt.legend(framealpha=1, frameon=True);\n",
        "\n",
        "plt.show()\n",
        "\n",
        "plt.title('Epocas VS Acurácia')\n",
        "plt.plot(epochs, acc_list[0][0], 'r',label='100% dos Filtros')\n",
        "plt.plot(epochs, acc_list[1][0], 'b',label='50% dos Filtros')\n",
        "plt.plot(epochs, acc_list[2][0], 'g',label='25% dos Filtros')\n",
        "plt.plot(epochs, acc_list[3][0], 'black',label='12,5% dos Filtros')\n",
        "plt.legend(framealpha=1, frameon=True);\n",
        "\n",
        "\n",
        "#loss_list\n"
      ],
      "execution_count": null,
      "outputs": [
        {
          "output_type": "display_data",
          "data": {
            "image/png": "[encoded data removed]",
            "text/plain": [
              "<Figure size 432x288 with 1 Axes>"
            ]
          },
          "metadata": {
            "tags": [],
            "needs_background": "light"
          }
        },
        {
          "output_type": "display_data",
          "data": {
            "image/png": "[encoded data removed]",
            "text/plain": [
              "<Figure size 432x288 with 1 Axes>"
            ]
          },
          "metadata": {
            "tags": [],
            "needs_background": "light"
          }
        }
      ]
    },
    {
      "cell_type": "markdown",
      "metadata": {
        "id": "hHnfq07PAQSL"
      },
      "source": [
        "# O que pode-se observar a partir dos gráficos acima é que, à medida em que se diminui a quantidade de filtros, após atingir a convergência, a acurácia diminui e o loss aumenta. Com isso é possível afirmar que quando o número de filtros é decrescido, a rede perde parte da sua capacidade de detecção de características, resultando em um modelo de classificação mais impreciso."
      ]
    },
    {
      "cell_type": "markdown",
      "metadata": {
        "id": "GSJzjN4F6oU-"
      },
      "source": [
        "##Bonus\n",
        "Reduza as dimensões da imagem de entrada para 14x14 e repita o teste anterior. As conclusões serão as mesmas? Comente."
      ]
    },
    {
      "cell_type": "code",
      "metadata": {
        "id": "er6rifKg5caQ",
        "colab": {
          "base_uri": "https://localhost:8080/",
          "height": 223
        },
        "outputId": "6da870ee-47e8-47a8-f859-20186d921a92"
      },
      "source": [
        "# dimensões da imagem de entrada\n",
        "img_rows, img_cols = 14, 14\n",
        "\n",
        "# carregamento dos dados de treinamento e de teste\n",
        "(x_train, y_train), (x_test, y_test) = mnist.load_data()\n",
        "\n",
        "# use apenas uma fração dos dados de treinamento/teste\n",
        "x_train=x_train[1:7501]\n",
        "y_train=y_train[1:7501]\n",
        "x_test=x_test[1:1251]\n",
        "y_test=y_test[1:1251]\n",
        "\n",
        "x_train = x_train.reshape(x_train.shape[0], img_rows, img_cols, 1)\n",
        "x_test = x_test.reshape(x_test.shape[0], img_rows, img_cols, 1)\n",
        "input_shape = (img_rows, img_cols, 1)\n",
        "\n",
        "x_train = x_train.astype('float32')\n",
        "x_test = x_test.astype('float32')\n",
        "x_train /= 255\n",
        "x_test /= 255\n",
        "print('x_train shape:', x_train.shape)\n",
        "print('x_test shape:', x_train.shape)\n",
        "print(x_train.shape[0], 'exemplos de treino')\n",
        "print(x_test.shape[0], 'exemplos de teste')\n",
        "\n",
        "# converte as saídas para matrizes binárias (one hot encoding)\n",
        "y_train = keras.utils.to_categorical(y_train, num_classes)\n",
        "y_test = keras.utils.to_categorical(y_test, num_classes)"
      ],
      "execution_count": null,
      "outputs": [
        {
          "output_type": "error",
          "ename": "ValueError",
          "evalue": "ignored",
          "traceback": [
            "\u001b[0;31m---------------------------------------------------------------------------\u001b[0m",
            "\u001b[0;31mValueError\u001b[0m                                Traceback (most recent call last)",
            "\u001b[0;32m<ipython-input-111-2e86a6914ab5>\u001b[0m in \u001b[0;36m<module>\u001b[0;34m()\u001b[0m\n\u001b[1;32m     10\u001b[0m \u001b[0my_test\u001b[0m\u001b[0;34m=\u001b[0m\u001b[0my_test\u001b[0m\u001b[0;34m[\u001b[0m\u001b[0;36m1\u001b[0m\u001b[0;34m:\u001b[0m\u001b[0;36m1251\u001b[0m\u001b[0;34m]\u001b[0m\u001b[0;34m\u001b[0m\u001b[0;34m\u001b[0m\u001b[0m\n\u001b[1;32m     11\u001b[0m \u001b[0;34m\u001b[0m\u001b[0m\n\u001b[0;32m---> 12\u001b[0;31m \u001b[0mx_train\u001b[0m \u001b[0;34m=\u001b[0m \u001b[0mx_train\u001b[0m\u001b[0;34m.\u001b[0m\u001b[0mreshape\u001b[0m\u001b[0;34m(\u001b[0m\u001b[0mx_train\u001b[0m\u001b[0;34m.\u001b[0m\u001b[0mshape\u001b[0m\u001b[0;34m[\u001b[0m\u001b[0;36m0\u001b[0m\u001b[0;34m]\u001b[0m\u001b[0;34m,\u001b[0m \u001b[0mimg_rows\u001b[0m\u001b[0;34m,\u001b[0m \u001b[0mimg_cols\u001b[0m\u001b[0;34m,\u001b[0m \u001b[0;36m1\u001b[0m\u001b[0;34m)\u001b[0m\u001b[0;34m\u001b[0m\u001b[0;34m\u001b[0m\u001b[0m\n\u001b[0m\u001b[1;32m     13\u001b[0m \u001b[0mx_test\u001b[0m \u001b[0;34m=\u001b[0m \u001b[0mx_test\u001b[0m\u001b[0;34m.\u001b[0m\u001b[0mreshape\u001b[0m\u001b[0;34m(\u001b[0m\u001b[0mx_test\u001b[0m\u001b[0;34m.\u001b[0m\u001b[0mshape\u001b[0m\u001b[0;34m[\u001b[0m\u001b[0;36m0\u001b[0m\u001b[0;34m]\u001b[0m\u001b[0;34m,\u001b[0m \u001b[0mimg_rows\u001b[0m\u001b[0;34m,\u001b[0m \u001b[0mimg_cols\u001b[0m\u001b[0;34m,\u001b[0m \u001b[0;36m1\u001b[0m\u001b[0;34m)\u001b[0m\u001b[0;34m\u001b[0m\u001b[0;34m\u001b[0m\u001b[0m\n\u001b[1;32m     14\u001b[0m \u001b[0minput_shape\u001b[0m \u001b[0;34m=\u001b[0m \u001b[0;34m(\u001b[0m\u001b[0mimg_rows\u001b[0m\u001b[0;34m,\u001b[0m \u001b[0mimg_cols\u001b[0m\u001b[0;34m,\u001b[0m \u001b[0;36m1\u001b[0m\u001b[0;34m)\u001b[0m\u001b[0;34m\u001b[0m\u001b[0;34m\u001b[0m\u001b[0m\n",
            "\u001b[0;31mValueError\u001b[0m: cannot reshape array of size 5880000 into shape (7500,14,14,1)"
          ]
        }
      ]
    },
    {
      "cell_type": "code",
      "metadata": {
        "id": "oZ7CG0BiUFCh",
        "colab": {
          "base_uri": "https://localhost:8080/",
          "height": 33
        },
        "outputId": "c0ce93c2-3fbe-47cc-8c9f-459099dfdfaa"
      },
      "source": [
        "x_train.shape"
      ],
      "execution_count": null,
      "outputs": [
        {
          "output_type": "execute_result",
          "data": {
            "text/plain": [
              "(7500, 28, 28)"
            ]
          },
          "metadata": {
            "tags": []
          },
          "execution_count": 113
        }
      ]
    },
    {
      "cell_type": "code",
      "metadata": {
        "id": "bI-LhjFCQN7z",
        "colab": {
          "base_uri": "https://localhost:8080/",
          "height": 393
        },
        "outputId": "ca238b87-f605-4bce-aa35-f2e9805a9ba8"
      },
      "source": [
        "import numpy as np\n",
        "loss_list_2 = [[],[],[],[]]\n",
        "acc_list_2 = [[],[],[],[]]\n",
        "mult_base_2 = [1,0.5,0.25,0.125]\n",
        "\n",
        "\n",
        "for CNN_version in np.arange(0,4,1):\n",
        "  print(\"TREINAMENTO COM \", mult_base[CNN_version]*100,\"% DOS FILTROS \\n\")\n",
        "  model = Sequential()\n",
        "  model.add(Conv2D(int(16*mult_base[CNN_version]), kernel_size=(5, 5),\n",
        "                  activation='relu',\n",
        "                  input_shape=input_shape))\n",
        "  model.add(Conv2D(int(32*mult_base[CNN_version]),kernel_size=(5, 5), activation='relu'))\n",
        "  model.add(MaxPooling2D(pool_size=(2, 2)))\n",
        "  model.add(Flatten())\n",
        "  model.add(Dense(int(64*mult_base[CNN_version]), activation='relu'))\n",
        "  model.add(Dense(num_classes, activation='softmax'))\n",
        "  \n",
        "  model.compile(loss=keras.losses.categorical_crossentropy,\n",
        "                optimizer=keras.optimizers.Adadelta(),\n",
        "                metrics=['accuracy'])\n",
        "  history = model.fit(x_train, y_train,\n",
        "          batch_size=batch_size,\n",
        "          epochs=epochs,\n",
        "          verbose=1,\n",
        "          validation_data=(x_test, y_test))\n",
        "  score = model.evaluate(x_test, y_test, verbose=0)\n",
        "  y_pred = model.predict(x_test)\n",
        "\n",
        "  loss_list[CNN_version].append(history.history['loss'])\n",
        "  acc_list[CNN_version].append(history.history['accuracy'])\n",
        "\n",
        "  #converte para números inteiros as saídas desejadas e saídas da predição\n",
        "  y_pred_int = y_pred.argmax(axis=1)\n",
        "  y_test_int = y_test.argmax(axis=1)\n",
        "\n",
        "\n",
        "  print(confusion_matrix(y_test_int, y_pred_int))"
      ],
      "execution_count": null,
      "outputs": [
        {
          "output_type": "stream",
          "text": [
            "TREINAMENTO COM  100 % DOS FILTROS \n",
            "\n"
          ],
          "name": "stdout"
        },
        {
          "output_type": "error",
          "ename": "ValueError",
          "evalue": "ignored",
          "traceback": [
            "\u001b[0;31m---------------------------------------------------------------------------\u001b[0m",
            "\u001b[0;31mValueError\u001b[0m                                Traceback (most recent call last)",
            "\u001b[0;32m<ipython-input-108-b3744f67266f>\u001b[0m in \u001b[0;36m<module>\u001b[0;34m()\u001b[0m\n\u001b[1;32m     24\u001b[0m           \u001b[0mepochs\u001b[0m\u001b[0;34m=\u001b[0m\u001b[0mepochs\u001b[0m\u001b[0;34m,\u001b[0m\u001b[0;34m\u001b[0m\u001b[0;34m\u001b[0m\u001b[0m\n\u001b[1;32m     25\u001b[0m           \u001b[0mverbose\u001b[0m\u001b[0;34m=\u001b[0m\u001b[0;36m1\u001b[0m\u001b[0;34m,\u001b[0m\u001b[0;34m\u001b[0m\u001b[0;34m\u001b[0m\u001b[0m\n\u001b[0;32m---> 26\u001b[0;31m           validation_data=(x_test, y_test))\n\u001b[0m\u001b[1;32m     27\u001b[0m   \u001b[0mscore\u001b[0m \u001b[0;34m=\u001b[0m \u001b[0mmodel\u001b[0m\u001b[0;34m.\u001b[0m\u001b[0mevaluate\u001b[0m\u001b[0;34m(\u001b[0m\u001b[0mx_test\u001b[0m\u001b[0;34m,\u001b[0m \u001b[0my_test\u001b[0m\u001b[0;34m,\u001b[0m \u001b[0mverbose\u001b[0m\u001b[0;34m=\u001b[0m\u001b[0;36m0\u001b[0m\u001b[0;34m)\u001b[0m\u001b[0;34m\u001b[0m\u001b[0;34m\u001b[0m\u001b[0m\n\u001b[1;32m     28\u001b[0m   \u001b[0my_pred\u001b[0m \u001b[0;34m=\u001b[0m \u001b[0mmodel\u001b[0m\u001b[0;34m.\u001b[0m\u001b[0mpredict\u001b[0m\u001b[0;34m(\u001b[0m\u001b[0mx_test\u001b[0m\u001b[0;34m)\u001b[0m\u001b[0;34m\u001b[0m\u001b[0;34m\u001b[0m\u001b[0m\n",
            "\u001b[0;32m/usr/local/lib/python3.6/dist-packages/keras/engine/training.py\u001b[0m in \u001b[0;36mfit\u001b[0;34m(self, x, y, batch_size, epochs, verbose, callbacks, validation_split, validation_data, shuffle, class_weight, sample_weight, initial_epoch, steps_per_epoch, validation_steps, validation_freq, max_queue_size, workers, use_multiprocessing, **kwargs)\u001b[0m\n\u001b[1;32m   1152\u001b[0m             \u001b[0msample_weight\u001b[0m\u001b[0;34m=\u001b[0m\u001b[0msample_weight\u001b[0m\u001b[0;34m,\u001b[0m\u001b[0;34m\u001b[0m\u001b[0;34m\u001b[0m\u001b[0m\n\u001b[1;32m   1153\u001b[0m             \u001b[0mclass_weight\u001b[0m\u001b[0;34m=\u001b[0m\u001b[0mclass_weight\u001b[0m\u001b[0;34m,\u001b[0m\u001b[0;34m\u001b[0m\u001b[0;34m\u001b[0m\u001b[0m\n\u001b[0;32m-> 1154\u001b[0;31m             batch_size=batch_size)\n\u001b[0m\u001b[1;32m   1155\u001b[0m \u001b[0;34m\u001b[0m\u001b[0m\n\u001b[1;32m   1156\u001b[0m         \u001b[0;31m# Prepare validation data.\u001b[0m\u001b[0;34m\u001b[0m\u001b[0;34m\u001b[0m\u001b[0;34m\u001b[0m\u001b[0m\n",
            "\u001b[0;32m/usr/local/lib/python3.6/dist-packages/keras/engine/training.py\u001b[0m in \u001b[0;36m_standardize_user_data\u001b[0;34m(self, x, y, sample_weight, class_weight, check_array_lengths, batch_size)\u001b[0m\n\u001b[1;32m    577\u001b[0m             \u001b[0mfeed_input_shapes\u001b[0m\u001b[0;34m,\u001b[0m\u001b[0;34m\u001b[0m\u001b[0;34m\u001b[0m\u001b[0m\n\u001b[1;32m    578\u001b[0m             \u001b[0mcheck_batch_axis\u001b[0m\u001b[0;34m=\u001b[0m\u001b[0;32mFalse\u001b[0m\u001b[0;34m,\u001b[0m  \u001b[0;31m# Don't enforce the batch size.\u001b[0m\u001b[0;34m\u001b[0m\u001b[0;34m\u001b[0m\u001b[0m\n\u001b[0;32m--> 579\u001b[0;31m             exception_prefix='input')\n\u001b[0m\u001b[1;32m    580\u001b[0m \u001b[0;34m\u001b[0m\u001b[0m\n\u001b[1;32m    581\u001b[0m         \u001b[0;32mif\u001b[0m \u001b[0my\u001b[0m \u001b[0;32mis\u001b[0m \u001b[0;32mnot\u001b[0m \u001b[0;32mNone\u001b[0m\u001b[0;34m:\u001b[0m\u001b[0;34m\u001b[0m\u001b[0;34m\u001b[0m\u001b[0m\n",
            "\u001b[0;32m/usr/local/lib/python3.6/dist-packages/keras/engine/training_utils.py\u001b[0m in \u001b[0;36mstandardize_input_data\u001b[0;34m(data, names, shapes, check_batch_axis, exception_prefix)\u001b[0m\n\u001b[1;32m    143\u001b[0m                             \u001b[0;34m': expected '\u001b[0m \u001b[0;34m+\u001b[0m \u001b[0mnames\u001b[0m\u001b[0;34m[\u001b[0m\u001b[0mi\u001b[0m\u001b[0;34m]\u001b[0m \u001b[0;34m+\u001b[0m \u001b[0;34m' to have shape '\u001b[0m \u001b[0;34m+\u001b[0m\u001b[0;34m\u001b[0m\u001b[0;34m\u001b[0m\u001b[0m\n\u001b[1;32m    144\u001b[0m                             \u001b[0mstr\u001b[0m\u001b[0;34m(\u001b[0m\u001b[0mshape\u001b[0m\u001b[0;34m)\u001b[0m \u001b[0;34m+\u001b[0m \u001b[0;34m' but got array with shape '\u001b[0m \u001b[0;34m+\u001b[0m\u001b[0;34m\u001b[0m\u001b[0;34m\u001b[0m\u001b[0m\n\u001b[0;32m--> 145\u001b[0;31m                             str(data_shape))\n\u001b[0m\u001b[1;32m    146\u001b[0m     \u001b[0;32mreturn\u001b[0m \u001b[0mdata\u001b[0m\u001b[0;34m\u001b[0m\u001b[0;34m\u001b[0m\u001b[0m\n\u001b[1;32m    147\u001b[0m \u001b[0;34m\u001b[0m\u001b[0m\n",
            "\u001b[0;31mValueError\u001b[0m: Error when checking input: expected conv2d_81_input to have shape (14, 14, 1) but got array with shape (28, 28, 1)"
          ]
        }
      ]
    }
  ]
}